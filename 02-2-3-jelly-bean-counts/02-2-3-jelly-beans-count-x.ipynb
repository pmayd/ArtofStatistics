{
 "metadata": {
  "language_info": {
   "codemirror_mode": {
    "name": "ipython",
    "version": 3
   },
   "file_extension": ".py",
   "mimetype": "text/x-python",
   "name": "python",
   "nbconvert_exporter": "python",
   "pygments_lexer": "ipython3",
   "version": "3.7.7-final"
  },
  "orig_nbformat": 2,
  "kernelspec": {
   "name": "python3",
   "display_name": "Python 3"
  }
 },
 "nbformat": 4,
 "nbformat_minor": 2,
 "cells": [
  {
   "cell_type": "code",
   "execution_count": 102,
   "metadata": {},
   "outputs": [],
   "source": [
    "import numpy as np\n",
    "import pandas as pd\n"
   ]
  },
  {
   "cell_type": "markdown",
   "metadata": {},
   "source": [
    "## Data"
   ]
  },
  {
   "cell_type": "code",
   "execution_count": 12,
   "metadata": {},
   "outputs": [
    {
     "output_type": "execute_result",
     "data": {
      "text/plain": "   count\n0    219\n1    244\n2    260\n3    269\n4    273",
      "text/html": "<div>\n<style scoped>\n    .dataframe tbody tr th:only-of-type {\n        vertical-align: middle;\n    }\n\n    .dataframe tbody tr th {\n        vertical-align: top;\n    }\n\n    .dataframe thead th {\n        text-align: right;\n    }\n</style>\n<table border=\"1\" class=\"dataframe\">\n  <thead>\n    <tr style=\"text-align: right;\">\n      <th></th>\n      <th>count</th>\n    </tr>\n  </thead>\n  <tbody>\n    <tr>\n      <th>0</th>\n      <td>219</td>\n    </tr>\n    <tr>\n      <th>1</th>\n      <td>244</td>\n    </tr>\n    <tr>\n      <th>2</th>\n      <td>260</td>\n    </tr>\n    <tr>\n      <th>3</th>\n      <td>269</td>\n    </tr>\n    <tr>\n      <th>4</th>\n      <td>273</td>\n    </tr>\n  </tbody>\n</table>\n</div>"
     },
     "metadata": {},
     "execution_count": 12
    }
   ],
   "source": [
    "df = pd.read_csv(\"02-1-bean-data-full-x.csv\", header=None, names=[\"count\"])\n",
    "\n",
    "df.head()"
   ]
  },
  {
   "cell_type": "code",
   "execution_count": 13,
   "metadata": {},
   "outputs": [
    {
     "output_type": "execute_result",
     "data": {
      "text/plain": "              count\ncount    915.000000\nmean    2408.745355\nstd     2422.170502\nmin      219.000000\n25%     1110.000000\n50%     1775.000000\n75%     2599.500000\nmax    31337.000000",
      "text/html": "<div>\n<style scoped>\n    .dataframe tbody tr th:only-of-type {\n        vertical-align: middle;\n    }\n\n    .dataframe tbody tr th {\n        vertical-align: top;\n    }\n\n    .dataframe thead th {\n        text-align: right;\n    }\n</style>\n<table border=\"1\" class=\"dataframe\">\n  <thead>\n    <tr style=\"text-align: right;\">\n      <th></th>\n      <th>count</th>\n    </tr>\n  </thead>\n  <tbody>\n    <tr>\n      <th>count</th>\n      <td>915.000000</td>\n    </tr>\n    <tr>\n      <th>mean</th>\n      <td>2408.745355</td>\n    </tr>\n    <tr>\n      <th>std</th>\n      <td>2422.170502</td>\n    </tr>\n    <tr>\n      <th>min</th>\n      <td>219.000000</td>\n    </tr>\n    <tr>\n      <th>25%</th>\n      <td>1110.000000</td>\n    </tr>\n    <tr>\n      <th>50%</th>\n      <td>1775.000000</td>\n    </tr>\n    <tr>\n      <th>75%</th>\n      <td>2599.500000</td>\n    </tr>\n    <tr>\n      <th>max</th>\n      <td>31337.000000</td>\n    </tr>\n  </tbody>\n</table>\n</div>"
     },
     "metadata": {},
     "execution_count": 13
    }
   ],
   "source": [
    "df.describe()"
   ]
  },
  {
   "cell_type": "code",
   "execution_count": 20,
   "metadata": {},
   "outputs": [
    {
     "output_type": "execute_result",
     "data": {
      "text/plain": "count    2422.170502\ndtype: float64"
     },
     "metadata": {},
     "execution_count": 20
    }
   ],
   "source": [
    "df.std()"
   ]
  },
  {
   "cell_type": "markdown",
   "metadata": {},
   "source": [
    "## With plotly"
   ]
  },
  {
   "cell_type": "code",
   "execution_count": 18,
   "metadata": {},
   "outputs": [],
   "source": [
    "import plotly.express as px\n",
    "import plotly.graph_objects as go"
   ]
  },
  {
   "cell_type": "code",
   "execution_count": 150,
   "metadata": {},
   "outputs": [
    {
     "output_type": "display_data",
     "data": {
      "application/vnd.plotly.v1+json": {
       "config": {
        "plotlyServerURL": "https://plot.ly"
       },
       "data": [
        {
         "alignmentgroup": "True",
         "boxpoints": "all",
         "fillcolor": "rgba(255,255,255,0)",
         "hoveron": "points",
         "hovertemplate": "count=%{x}<extra></extra>",
         "legendgroup": "",
         "line": {
          "color": "rgba(255,255,255,0)"
         },
         "marker": {
          "color": "black"
         },
         "name": "",
         "offsetgroup": "",
         "orientation": "h",
         "pointpos": 0,
         "showlegend": false,
         "type": "box",
         "x": [
          219,
          244,
          260,
          269,
          273,
          280,
          300,
          333,
          361,
          400,
          421,
          436,
          441,
          444,
          450,
          450,
          450,
          452,
          458,
          465,
          466,
          467,
          475,
          480,
          486,
          496,
          496,
          500,
          512,
          512,
          514,
          527,
          529,
          536,
          542,
          549,
          553,
          557,
          557,
          562,
          563,
          575,
          575,
          576,
          601,
          603,
          604,
          606,
          611,
          612,
          620,
          622,
          627,
          627,
          628,
          631,
          643,
          650,
          653,
          655,
          657,
          658,
          665,
          666,
          666,
          667,
          668,
          668,
          672,
          674,
          680,
          687,
          692,
          697,
          697,
          698,
          699,
          700,
          706,
          712,
          716,
          722,
          728,
          728,
          731,
          736,
          737,
          738,
          740,
          742,
          748,
          748,
          749,
          754,
          756,
          756,
          780,
          793,
          794,
          800,
          801,
          801,
          801,
          812,
          815,
          817,
          819,
          819,
          822,
          824,
          826,
          826,
          831,
          839,
          843,
          843,
          843,
          844,
          845,
          846,
          849,
          850,
          850,
          853,
          854,
          855,
          856,
          863,
          863,
          863,
          870,
          874,
          874,
          874,
          881,
          886,
          888,
          889,
          893,
          895,
          896,
          897,
          898,
          898,
          899,
          899,
          900,
          900,
          900,
          907,
          907,
          912,
          913,
          913,
          920,
          924,
          929,
          929,
          929,
          930,
          930,
          930,
          931,
          931,
          936,
          937,
          942,
          942,
          942,
          946,
          946,
          946,
          947,
          950,
          953,
          956,
          957,
          957,
          958,
          960,
          962,
          964,
          965,
          965,
          972,
          974,
          976,
          977,
          978,
          979,
          983,
          983,
          984,
          987,
          987,
          992,
          995,
          999,
          1000,
          1000,
          1000,
          1000,
          1000,
          1000,
          1000,
          1001,
          1009,
          1013,
          1020,
          1021,
          1023,
          1036,
          1037,
          1039,
          1044,
          1044,
          1046,
          1050,
          1054,
          1065,
          1082,
          1084,
          1085,
          1089,
          1096,
          1099,
          1100,
          1105,
          1109,
          1111,
          1112,
          1115,
          1121,
          1123,
          1123,
          1128,
          1131,
          1143,
          1146,
          1150,
          1154,
          1154,
          1177,
          1178,
          1189,
          1197,
          1198,
          1198,
          1198,
          1198,
          1198,
          1199,
          1200,
          1200,
          1200,
          1200,
          1202,
          1204,
          1206,
          1210,
          1212,
          1216,
          1216,
          1221,
          1221,
          1225,
          1226,
          1231,
          1233,
          1234,
          1234,
          1234,
          1234,
          1234,
          1241,
          1245,
          1250,
          1254,
          1255,
          1256,
          1256,
          1257,
          1257,
          1260,
          1264,
          1274,
          1275,
          1276,
          1280,
          1280,
          1283,
          1283,
          1286,
          1286,
          1293,
          1295,
          1296,
          1296,
          1296,
          1298,
          1300,
          1300,
          1300,
          1301,
          1312,
          1313,
          1320,
          1332,
          1334,
          1336,
          1336,
          1337,
          1337,
          1337,
          1337,
          1337,
          1337,
          1337,
          1337,
          1337,
          1338,
          1342,
          1348,
          1349,
          1350,
          1350,
          1350,
          1353,
          1356,
          1364,
          1372,
          1372,
          1385,
          1385,
          1387,
          1389,
          1389,
          1394,
          1396,
          1396,
          1399,
          1399,
          1403,
          1404,
          1411,
          1412,
          1414,
          1422,
          1423,
          1428,
          1428,
          1432,
          1432,
          1437,
          1440,
          1445,
          1450,
          1452,
          1452,
          1467,
          1469,
          1473,
          1479,
          1481,
          1485,
          1486,
          1487,
          1495,
          1496,
          1498,
          1499,
          1499,
          1499,
          1499,
          1500,
          1500,
          1500,
          1500,
          1500,
          1500,
          1506,
          1514,
          1517,
          1527,
          1528,
          1529,
          1530,
          1530,
          1541,
          1546,
          1546,
          1548,
          1548,
          1562,
          1563,
          1563,
          1567,
          1567,
          1569,
          1570,
          1573,
          1575,
          1577,
          1581,
          1582,
          1589,
          1598,
          1599,
          1600,
          1600,
          1601,
          1613,
          1616,
          1622,
          1628,
          1629,
          1631,
          1632,
          1633,
          1647,
          1649,
          1649,
          1656,
          1669,
          1676,
          1681,
          1696,
          1696,
          1697,
          1699,
          1700,
          1700,
          1706,
          1710,
          1723,
          1724,
          1724,
          1728,
          1728,
          1728,
          1729,
          1729,
          1729,
          1733,
          1734,
          1738,
          1738,
          1746,
          1749,
          1752,
          1754,
          1756,
          1758,
          1760,
          1765,
          1769,
          1771,
          1775,
          1776,
          1777,
          1780,
          1782,
          1785,
          1785,
          1796,
          1798,
          1799,
          1800,
          1800,
          1800,
          1800,
          1800,
          1800,
          1800,
          1800,
          1821,
          1826,
          1826,
          1833,
          1836,
          1836,
          1836,
          1836,
          1837,
          1845,
          1847,
          1848,
          1850,
          1856,
          1860,
          1867,
          1870,
          1871,
          1879,
          1879,
          1880,
          1880,
          1887,
          1889,
          1890,
          1890,
          1892,
          1899,
          1903,
          1906,
          1906,
          1908,
          1910,
          1919,
          1920,
          1927,
          1931,
          1931,
          1932,
          1937,
          1944,
          1962,
          1964,
          1975,
          1980,
          1982,
          1983,
          1985,
          1985,
          1989,
          1993,
          1994,
          1997,
          1998,
          2000,
          2000,
          2000,
          2000,
          2000,
          2000,
          2000,
          2000,
          2010,
          2011,
          2011,
          2011,
          2012,
          2012,
          2013,
          2013,
          2014,
          2016,
          2020,
          2020,
          2020,
          2032,
          2036,
          2038,
          2041,
          2042,
          2045,
          2049,
          2052,
          2054,
          2056,
          2057,
          2059,
          2060,
          2069,
          2072,
          2075,
          2079,
          2081,
          2081,
          2087,
          2097,
          2104,
          2111,
          2112,
          2119,
          2127,
          2128,
          2133,
          2135,
          2135,
          2137,
          2147,
          2147,
          2150,
          2153,
          2153,
          2159,
          2159,
          2164,
          2164,
          2165,
          2165,
          2168,
          2168,
          2175,
          2176,
          2177,
          2178,
          2189,
          2190,
          2225,
          2233,
          2243,
          2245,
          2248,
          2249,
          2253,
          2258,
          2262,
          2268,
          2268,
          2279,
          2284,
          2292,
          2299,
          2299,
          2299,
          2301,
          2314,
          2317,
          2323,
          2328,
          2333,
          2338,
          2340,
          2345,
          2345,
          2345,
          2353,
          2354,
          2359,
          2362,
          2365,
          2369,
          2374,
          2374,
          2383,
          2401,
          2421,
          2423,
          2427,
          2432,
          2445,
          2445,
          2447,
          2447,
          2448,
          2450,
          2451,
          2456,
          2458,
          2463,
          2466,
          2467,
          2472,
          2473,
          2483,
          2486,
          2494,
          2495,
          2497,
          2499,
          2500,
          2500,
          2500,
          2500,
          2527,
          2533,
          2537,
          2540,
          2541,
          2542,
          2544,
          2546,
          2547,
          2547,
          2549,
          2553,
          2562,
          2562,
          2567,
          2568,
          2568,
          2586,
          2596,
          2599,
          2600,
          2600,
          2600,
          2609,
          2636,
          2647,
          2672,
          2673,
          2690,
          2693,
          2710,
          2727,
          2732,
          2750,
          2760,
          2766,
          2804,
          2805,
          2816,
          2819,
          2826,
          2843,
          2843,
          2856,
          2856,
          2859,
          2861,
          2863,
          2865,
          2873,
          2874,
          2874,
          2880,
          2899,
          2989,
          2993,
          3000,
          3000,
          3000,
          3000,
          3003,
          3009,
          3010,
          3011,
          3014,
          3024,
          3050,
          3067,
          3098,
          3114,
          3122,
          3147,
          3149,
          3159,
          3200,
          3208,
          3209,
          3221,
          3225,
          3257,
          3269,
          3278,
          3281,
          3294,
          3316,
          3332,
          3333,
          3360,
          3375,
          3421,
          3425,
          3447,
          3452,
          3455,
          3456,
          3459,
          3467,
          3472,
          3485,
          3485,
          3487,
          3492,
          3550,
          3568,
          3575,
          3576,
          3577,
          3578,
          3584,
          3585,
          3600,
          3637,
          3652,
          3678,
          3689,
          3733,
          3765,
          3768,
          3780,
          3782,
          3825,
          3843,
          3846,
          3860,
          3872,
          3873,
          3879,
          3895,
          3961,
          3972,
          3976,
          3999,
          4000,
          4050,
          4051,
          4064,
          4096,
          4120,
          4132,
          4132,
          4150,
          4158,
          4200,
          4209,
          4218,
          4251,
          4269,
          4273,
          4275,
          4287,
          4297,
          4319,
          4320,
          4531,
          4566,
          4567,
          4567,
          4568,
          4573,
          4586,
          4675,
          4682,
          4689,
          4747,
          4764,
          4824,
          4869,
          4952,
          4968,
          5000,
          5000,
          5000,
          5000,
          5005,
          5006,
          5027,
          5032,
          5040,
          5048,
          5259,
          5312,
          5328,
          5352,
          5489,
          5629,
          5672,
          5687,
          5880,
          5892,
          5895,
          5898,
          5964,
          5971,
          6083,
          6100,
          6382,
          6432,
          6458,
          6487,
          6553,
          6563,
          6589,
          6594,
          6711,
          6744,
          6754,
          7075,
          7145,
          7693,
          7965,
          8000,
          8211,
          8400,
          8569,
          9000,
          9901,
          9999,
          9999,
          9999,
          9999,
          9999,
          9999,
          9999,
          9999,
          9999,
          10000,
          10000,
          10000,
          10000,
          10000,
          10000,
          10000,
          10000,
          10000,
          10000,
          10000,
          10001,
          10001,
          10368,
          10467,
          11000,
          11987,
          12240,
          12344,
          14137,
          14237,
          18375,
          21000,
          31337
         ],
         "x0": " ",
         "xaxis": "x",
         "y0": " ",
         "yaxis": "y"
        }
       ],
       "layout": {
        "boxmode": "group",
        "legend": {
         "tracegroupgap": 0
        },
        "margin": {
         "t": 60
        },
        "template": {
         "data": {
          "bar": [
           {
            "error_x": {
             "color": "rgb(51,51,51)"
            },
            "error_y": {
             "color": "rgb(51,51,51)"
            },
            "marker": {
             "line": {
              "color": "rgb(237,237,237)",
              "width": 0.5
             }
            },
            "type": "bar"
           }
          ],
          "barpolar": [
           {
            "marker": {
             "line": {
              "color": "rgb(237,237,237)",
              "width": 0.5
             }
            },
            "type": "barpolar"
           }
          ],
          "carpet": [
           {
            "aaxis": {
             "endlinecolor": "rgb(51,51,51)",
             "gridcolor": "white",
             "linecolor": "white",
             "minorgridcolor": "white",
             "startlinecolor": "rgb(51,51,51)"
            },
            "baxis": {
             "endlinecolor": "rgb(51,51,51)",
             "gridcolor": "white",
             "linecolor": "white",
             "minorgridcolor": "white",
             "startlinecolor": "rgb(51,51,51)"
            },
            "type": "carpet"
           }
          ],
          "choropleth": [
           {
            "colorbar": {
             "outlinewidth": 0,
             "tickcolor": "rgb(237,237,237)",
             "ticklen": 6,
             "ticks": "inside"
            },
            "type": "choropleth"
           }
          ],
          "contour": [
           {
            "colorbar": {
             "outlinewidth": 0,
             "tickcolor": "rgb(237,237,237)",
             "ticklen": 6,
             "ticks": "inside"
            },
            "colorscale": [
             [
              0,
              "rgb(20,44,66)"
             ],
             [
              1,
              "rgb(90,179,244)"
             ]
            ],
            "type": "contour"
           }
          ],
          "contourcarpet": [
           {
            "colorbar": {
             "outlinewidth": 0,
             "tickcolor": "rgb(237,237,237)",
             "ticklen": 6,
             "ticks": "inside"
            },
            "type": "contourcarpet"
           }
          ],
          "heatmap": [
           {
            "colorbar": {
             "outlinewidth": 0,
             "tickcolor": "rgb(237,237,237)",
             "ticklen": 6,
             "ticks": "inside"
            },
            "colorscale": [
             [
              0,
              "rgb(20,44,66)"
             ],
             [
              1,
              "rgb(90,179,244)"
             ]
            ],
            "type": "heatmap"
           }
          ],
          "heatmapgl": [
           {
            "colorbar": {
             "outlinewidth": 0,
             "tickcolor": "rgb(237,237,237)",
             "ticklen": 6,
             "ticks": "inside"
            },
            "colorscale": [
             [
              0,
              "rgb(20,44,66)"
             ],
             [
              1,
              "rgb(90,179,244)"
             ]
            ],
            "type": "heatmapgl"
           }
          ],
          "histogram": [
           {
            "marker": {
             "colorbar": {
              "outlinewidth": 0,
              "tickcolor": "rgb(237,237,237)",
              "ticklen": 6,
              "ticks": "inside"
             }
            },
            "type": "histogram"
           }
          ],
          "histogram2d": [
           {
            "colorbar": {
             "outlinewidth": 0,
             "tickcolor": "rgb(237,237,237)",
             "ticklen": 6,
             "ticks": "inside"
            },
            "colorscale": [
             [
              0,
              "rgb(20,44,66)"
             ],
             [
              1,
              "rgb(90,179,244)"
             ]
            ],
            "type": "histogram2d"
           }
          ],
          "histogram2dcontour": [
           {
            "colorbar": {
             "outlinewidth": 0,
             "tickcolor": "rgb(237,237,237)",
             "ticklen": 6,
             "ticks": "inside"
            },
            "colorscale": [
             [
              0,
              "rgb(20,44,66)"
             ],
             [
              1,
              "rgb(90,179,244)"
             ]
            ],
            "type": "histogram2dcontour"
           }
          ],
          "mesh3d": [
           {
            "colorbar": {
             "outlinewidth": 0,
             "tickcolor": "rgb(237,237,237)",
             "ticklen": 6,
             "ticks": "inside"
            },
            "type": "mesh3d"
           }
          ],
          "parcoords": [
           {
            "line": {
             "colorbar": {
              "outlinewidth": 0,
              "tickcolor": "rgb(237,237,237)",
              "ticklen": 6,
              "ticks": "inside"
             }
            },
            "type": "parcoords"
           }
          ],
          "pie": [
           {
            "automargin": true,
            "type": "pie"
           }
          ],
          "scatter": [
           {
            "marker": {
             "colorbar": {
              "outlinewidth": 0,
              "tickcolor": "rgb(237,237,237)",
              "ticklen": 6,
              "ticks": "inside"
             }
            },
            "type": "scatter"
           }
          ],
          "scatter3d": [
           {
            "line": {
             "colorbar": {
              "outlinewidth": 0,
              "tickcolor": "rgb(237,237,237)",
              "ticklen": 6,
              "ticks": "inside"
             }
            },
            "marker": {
             "colorbar": {
              "outlinewidth": 0,
              "tickcolor": "rgb(237,237,237)",
              "ticklen": 6,
              "ticks": "inside"
             }
            },
            "type": "scatter3d"
           }
          ],
          "scattercarpet": [
           {
            "marker": {
             "colorbar": {
              "outlinewidth": 0,
              "tickcolor": "rgb(237,237,237)",
              "ticklen": 6,
              "ticks": "inside"
             }
            },
            "type": "scattercarpet"
           }
          ],
          "scattergeo": [
           {
            "marker": {
             "colorbar": {
              "outlinewidth": 0,
              "tickcolor": "rgb(237,237,237)",
              "ticklen": 6,
              "ticks": "inside"
             }
            },
            "type": "scattergeo"
           }
          ],
          "scattergl": [
           {
            "marker": {
             "colorbar": {
              "outlinewidth": 0,
              "tickcolor": "rgb(237,237,237)",
              "ticklen": 6,
              "ticks": "inside"
             }
            },
            "type": "scattergl"
           }
          ],
          "scattermapbox": [
           {
            "marker": {
             "colorbar": {
              "outlinewidth": 0,
              "tickcolor": "rgb(237,237,237)",
              "ticklen": 6,
              "ticks": "inside"
             }
            },
            "type": "scattermapbox"
           }
          ],
          "scatterpolar": [
           {
            "marker": {
             "colorbar": {
              "outlinewidth": 0,
              "tickcolor": "rgb(237,237,237)",
              "ticklen": 6,
              "ticks": "inside"
             }
            },
            "type": "scatterpolar"
           }
          ],
          "scatterpolargl": [
           {
            "marker": {
             "colorbar": {
              "outlinewidth": 0,
              "tickcolor": "rgb(237,237,237)",
              "ticklen": 6,
              "ticks": "inside"
             }
            },
            "type": "scatterpolargl"
           }
          ],
          "scatterternary": [
           {
            "marker": {
             "colorbar": {
              "outlinewidth": 0,
              "tickcolor": "rgb(237,237,237)",
              "ticklen": 6,
              "ticks": "inside"
             }
            },
            "type": "scatterternary"
           }
          ],
          "surface": [
           {
            "colorbar": {
             "outlinewidth": 0,
             "tickcolor": "rgb(237,237,237)",
             "ticklen": 6,
             "ticks": "inside"
            },
            "colorscale": [
             [
              0,
              "rgb(20,44,66)"
             ],
             [
              1,
              "rgb(90,179,244)"
             ]
            ],
            "type": "surface"
           }
          ],
          "table": [
           {
            "cells": {
             "fill": {
              "color": "rgb(237,237,237)"
             },
             "line": {
              "color": "white"
             }
            },
            "header": {
             "fill": {
              "color": "rgb(217,217,217)"
             },
             "line": {
              "color": "white"
             }
            },
            "type": "table"
           }
          ]
         },
         "layout": {
          "annotationdefaults": {
           "arrowhead": 0,
           "arrowwidth": 1
          },
          "coloraxis": {
           "colorbar": {
            "outlinewidth": 0,
            "tickcolor": "rgb(237,237,237)",
            "ticklen": 6,
            "ticks": "inside"
           }
          },
          "colorscale": {
           "sequential": [
            [
             0,
             "rgb(20,44,66)"
            ],
            [
             1,
             "rgb(90,179,244)"
            ]
           ],
           "sequentialminus": [
            [
             0,
             "rgb(20,44,66)"
            ],
            [
             1,
             "rgb(90,179,244)"
            ]
           ]
          },
          "colorway": [
           "#F8766D",
           "#A3A500",
           "#00BF7D",
           "#00B0F6",
           "#E76BF3"
          ],
          "font": {
           "color": "rgb(51,51,51)"
          },
          "geo": {
           "bgcolor": "white",
           "lakecolor": "white",
           "landcolor": "rgb(237,237,237)",
           "showlakes": true,
           "showland": true,
           "subunitcolor": "white"
          },
          "hoverlabel": {
           "align": "left"
          },
          "hovermode": "closest",
          "paper_bgcolor": "white",
          "plot_bgcolor": "rgb(237,237,237)",
          "polar": {
           "angularaxis": {
            "gridcolor": "white",
            "linecolor": "white",
            "showgrid": true,
            "tickcolor": "rgb(51,51,51)",
            "ticks": "outside"
           },
           "bgcolor": "rgb(237,237,237)",
           "radialaxis": {
            "gridcolor": "white",
            "linecolor": "white",
            "showgrid": true,
            "tickcolor": "rgb(51,51,51)",
            "ticks": "outside"
           }
          },
          "scene": {
           "xaxis": {
            "backgroundcolor": "rgb(237,237,237)",
            "gridcolor": "white",
            "gridwidth": 2,
            "linecolor": "white",
            "showbackground": true,
            "showgrid": true,
            "tickcolor": "rgb(51,51,51)",
            "ticks": "outside",
            "zerolinecolor": "white"
           },
           "yaxis": {
            "backgroundcolor": "rgb(237,237,237)",
            "gridcolor": "white",
            "gridwidth": 2,
            "linecolor": "white",
            "showbackground": true,
            "showgrid": true,
            "tickcolor": "rgb(51,51,51)",
            "ticks": "outside",
            "zerolinecolor": "white"
           },
           "zaxis": {
            "backgroundcolor": "rgb(237,237,237)",
            "gridcolor": "white",
            "gridwidth": 2,
            "linecolor": "white",
            "showbackground": true,
            "showgrid": true,
            "tickcolor": "rgb(51,51,51)",
            "ticks": "outside",
            "zerolinecolor": "white"
           }
          },
          "shapedefaults": {
           "fillcolor": "black",
           "line": {
            "width": 0
           },
           "opacity": 0.3
          },
          "ternary": {
           "aaxis": {
            "gridcolor": "white",
            "linecolor": "white",
            "showgrid": true,
            "tickcolor": "rgb(51,51,51)",
            "ticks": "outside"
           },
           "baxis": {
            "gridcolor": "white",
            "linecolor": "white",
            "showgrid": true,
            "tickcolor": "rgb(51,51,51)",
            "ticks": "outside"
           },
           "bgcolor": "rgb(237,237,237)",
           "caxis": {
            "gridcolor": "white",
            "linecolor": "white",
            "showgrid": true,
            "tickcolor": "rgb(51,51,51)",
            "ticks": "outside"
           }
          },
          "xaxis": {
           "automargin": true,
           "gridcolor": "white",
           "linecolor": "white",
           "showgrid": true,
           "tickcolor": "rgb(51,51,51)",
           "ticks": "outside",
           "title": {
            "standoff": 15
           },
           "zerolinecolor": "white"
          },
          "yaxis": {
           "automargin": true,
           "gridcolor": "white",
           "linecolor": "white",
           "showgrid": true,
           "tickcolor": "rgb(51,51,51)",
           "ticks": "outside",
           "title": {
            "standoff": 15
           },
           "zerolinecolor": "white"
          }
         }
        },
        "xaxis": {
         "anchor": "y",
         "domain": [
          0,
          1
         ],
         "dtick": 5000,
         "tick0": 0,
         "title": {
          "text": "Guess at number of beans in jar"
         }
        },
        "yaxis": {
         "anchor": "x",
         "domain": [
          0,
          1
         ],
         "range": [
          -0.1,
          0.1
         ]
        }
       }
      }
     },
     "metadata": {}
    }
   ],
   "source": [
    "fig = px.strip(df, x=\"count\", template=\"ggplot2\")\n",
    "\n",
    "fig.update_layout(\n",
    "    xaxis=dict(\n",
    "        title=\"Guess at number of beans in jar\",\n",
    "        tick0=0,\n",
    "        dtick=5e3\n",
    "    )\n",
    ")\n",
    "\n",
    "fig.update_yaxes(\n",
    "   range=(-0.1,.1)\n",
    ")\n",
    "\n",
    "fig.update_traces(marker_color=\"black\")\n",
    "\n",
    "fig"
   ]
  },
  {
   "cell_type": "code",
   "execution_count": 153,
   "metadata": {},
   "outputs": [
    {
     "output_type": "display_data",
     "data": {
      "application/vnd.plotly.v1+json": {
       "config": {
        "plotlyServerURL": "https://plot.ly"
       },
       "data": [
        {
         "alignmentgroup": "True",
         "boxpoints": "all",
         "fillcolor": "rgba(255,255,255,0)",
         "hoveron": "points",
         "hovertemplate": "count=%{x}<extra></extra>",
         "legendgroup": "",
         "line": {
          "color": "rgba(255,255,255,0)"
         },
         "marker": {
          "color": "black"
         },
         "name": "",
         "offsetgroup": "",
         "orientation": "h",
         "pointpos": 0,
         "showlegend": false,
         "type": "box",
         "x": [
          219,
          244,
          260,
          269,
          273,
          280,
          300,
          333,
          361,
          400,
          421,
          436,
          441,
          444,
          450,
          450,
          450,
          452,
          458,
          465,
          466,
          467,
          475,
          480,
          486,
          496,
          496,
          500,
          512,
          512,
          514,
          527,
          529,
          536,
          542,
          549,
          553,
          557,
          557,
          562,
          563,
          575,
          575,
          576,
          601,
          603,
          604,
          606,
          611,
          612,
          620,
          622,
          627,
          627,
          628,
          631,
          643,
          650,
          653,
          655,
          657,
          658,
          665,
          666,
          666,
          667,
          668,
          668,
          672,
          674,
          680,
          687,
          692,
          697,
          697,
          698,
          699,
          700,
          706,
          712,
          716,
          722,
          728,
          728,
          731,
          736,
          737,
          738,
          740,
          742,
          748,
          748,
          749,
          754,
          756,
          756,
          780,
          793,
          794,
          800,
          801,
          801,
          801,
          812,
          815,
          817,
          819,
          819,
          822,
          824,
          826,
          826,
          831,
          839,
          843,
          843,
          843,
          844,
          845,
          846,
          849,
          850,
          850,
          853,
          854,
          855,
          856,
          863,
          863,
          863,
          870,
          874,
          874,
          874,
          881,
          886,
          888,
          889,
          893,
          895,
          896,
          897,
          898,
          898,
          899,
          899,
          900,
          900,
          900,
          907,
          907,
          912,
          913,
          913,
          920,
          924,
          929,
          929,
          929,
          930,
          930,
          930,
          931,
          931,
          936,
          937,
          942,
          942,
          942,
          946,
          946,
          946,
          947,
          950,
          953,
          956,
          957,
          957,
          958,
          960,
          962,
          964,
          965,
          965,
          972,
          974,
          976,
          977,
          978,
          979,
          983,
          983,
          984,
          987,
          987,
          992,
          995,
          999,
          1000,
          1000,
          1000,
          1000,
          1000,
          1000,
          1000,
          1001,
          1009,
          1013,
          1020,
          1021,
          1023,
          1036,
          1037,
          1039,
          1044,
          1044,
          1046,
          1050,
          1054,
          1065,
          1082,
          1084,
          1085,
          1089,
          1096,
          1099,
          1100,
          1105,
          1109,
          1111,
          1112,
          1115,
          1121,
          1123,
          1123,
          1128,
          1131,
          1143,
          1146,
          1150,
          1154,
          1154,
          1177,
          1178,
          1189,
          1197,
          1198,
          1198,
          1198,
          1198,
          1198,
          1199,
          1200,
          1200,
          1200,
          1200,
          1202,
          1204,
          1206,
          1210,
          1212,
          1216,
          1216,
          1221,
          1221,
          1225,
          1226,
          1231,
          1233,
          1234,
          1234,
          1234,
          1234,
          1234,
          1241,
          1245,
          1250,
          1254,
          1255,
          1256,
          1256,
          1257,
          1257,
          1260,
          1264,
          1274,
          1275,
          1276,
          1280,
          1280,
          1283,
          1283,
          1286,
          1286,
          1293,
          1295,
          1296,
          1296,
          1296,
          1298,
          1300,
          1300,
          1300,
          1301,
          1312,
          1313,
          1320,
          1332,
          1334,
          1336,
          1336,
          1337,
          1337,
          1337,
          1337,
          1337,
          1337,
          1337,
          1337,
          1337,
          1338,
          1342,
          1348,
          1349,
          1350,
          1350,
          1350,
          1353,
          1356,
          1364,
          1372,
          1372,
          1385,
          1385,
          1387,
          1389,
          1389,
          1394,
          1396,
          1396,
          1399,
          1399,
          1403,
          1404,
          1411,
          1412,
          1414,
          1422,
          1423,
          1428,
          1428,
          1432,
          1432,
          1437,
          1440,
          1445,
          1450,
          1452,
          1452,
          1467,
          1469,
          1473,
          1479,
          1481,
          1485,
          1486,
          1487,
          1495,
          1496,
          1498,
          1499,
          1499,
          1499,
          1499,
          1500,
          1500,
          1500,
          1500,
          1500,
          1500,
          1506,
          1514,
          1517,
          1527,
          1528,
          1529,
          1530,
          1530,
          1541,
          1546,
          1546,
          1548,
          1548,
          1562,
          1563,
          1563,
          1567,
          1567,
          1569,
          1570,
          1573,
          1575,
          1577,
          1581,
          1582,
          1589,
          1598,
          1599,
          1600,
          1600,
          1601,
          1613,
          1616,
          1622,
          1628,
          1629,
          1631,
          1632,
          1633,
          1647,
          1649,
          1649,
          1656,
          1669,
          1676,
          1681,
          1696,
          1696,
          1697,
          1699,
          1700,
          1700,
          1706,
          1710,
          1723,
          1724,
          1724,
          1728,
          1728,
          1728,
          1729,
          1729,
          1729,
          1733,
          1734,
          1738,
          1738,
          1746,
          1749,
          1752,
          1754,
          1756,
          1758,
          1760,
          1765,
          1769,
          1771,
          1775,
          1776,
          1777,
          1780,
          1782,
          1785,
          1785,
          1796,
          1798,
          1799,
          1800,
          1800,
          1800,
          1800,
          1800,
          1800,
          1800,
          1800,
          1821,
          1826,
          1826,
          1833,
          1836,
          1836,
          1836,
          1836,
          1837,
          1845,
          1847,
          1848,
          1850,
          1856,
          1860,
          1867,
          1870,
          1871,
          1879,
          1879,
          1880,
          1880,
          1887,
          1889,
          1890,
          1890,
          1892,
          1899,
          1903,
          1906,
          1906,
          1908,
          1910,
          1919,
          1920,
          1927,
          1931,
          1931,
          1932,
          1937,
          1944,
          1962,
          1964,
          1975,
          1980,
          1982,
          1983,
          1985,
          1985,
          1989,
          1993,
          1994,
          1997,
          1998,
          2000,
          2000,
          2000,
          2000,
          2000,
          2000,
          2000,
          2000,
          2010,
          2011,
          2011,
          2011,
          2012,
          2012,
          2013,
          2013,
          2014,
          2016,
          2020,
          2020,
          2020,
          2032,
          2036,
          2038,
          2041,
          2042,
          2045,
          2049,
          2052,
          2054,
          2056,
          2057,
          2059,
          2060,
          2069,
          2072,
          2075,
          2079,
          2081,
          2081,
          2087,
          2097,
          2104,
          2111,
          2112,
          2119,
          2127,
          2128,
          2133,
          2135,
          2135,
          2137,
          2147,
          2147,
          2150,
          2153,
          2153,
          2159,
          2159,
          2164,
          2164,
          2165,
          2165,
          2168,
          2168,
          2175,
          2176,
          2177,
          2178,
          2189,
          2190,
          2225,
          2233,
          2243,
          2245,
          2248,
          2249,
          2253,
          2258,
          2262,
          2268,
          2268,
          2279,
          2284,
          2292,
          2299,
          2299,
          2299,
          2301,
          2314,
          2317,
          2323,
          2328,
          2333,
          2338,
          2340,
          2345,
          2345,
          2345,
          2353,
          2354,
          2359,
          2362,
          2365,
          2369,
          2374,
          2374,
          2383,
          2401,
          2421,
          2423,
          2427,
          2432,
          2445,
          2445,
          2447,
          2447,
          2448,
          2450,
          2451,
          2456,
          2458,
          2463,
          2466,
          2467,
          2472,
          2473,
          2483,
          2486,
          2494,
          2495,
          2497,
          2499,
          2500,
          2500,
          2500,
          2500,
          2527,
          2533,
          2537,
          2540,
          2541,
          2542,
          2544,
          2546,
          2547,
          2547,
          2549,
          2553,
          2562,
          2562,
          2567,
          2568,
          2568,
          2586,
          2596,
          2599,
          2600,
          2600,
          2600,
          2609,
          2636,
          2647,
          2672,
          2673,
          2690,
          2693,
          2710,
          2727,
          2732,
          2750,
          2760,
          2766,
          2804,
          2805,
          2816,
          2819,
          2826,
          2843,
          2843,
          2856,
          2856,
          2859,
          2861,
          2863,
          2865,
          2873,
          2874,
          2874,
          2880,
          2899,
          2989,
          2993,
          3000,
          3000,
          3000,
          3000,
          3003,
          3009,
          3010,
          3011,
          3014,
          3024,
          3050,
          3067,
          3098,
          3114,
          3122,
          3147,
          3149,
          3159,
          3200,
          3208,
          3209,
          3221,
          3225,
          3257,
          3269,
          3278,
          3281,
          3294,
          3316,
          3332,
          3333,
          3360,
          3375,
          3421,
          3425,
          3447,
          3452,
          3455,
          3456,
          3459,
          3467,
          3472,
          3485,
          3485,
          3487,
          3492,
          3550,
          3568,
          3575,
          3576,
          3577,
          3578,
          3584,
          3585,
          3600,
          3637,
          3652,
          3678,
          3689,
          3733,
          3765,
          3768,
          3780,
          3782,
          3825,
          3843,
          3846,
          3860,
          3872,
          3873,
          3879,
          3895,
          3961,
          3972,
          3976,
          3999,
          4000,
          4050,
          4051,
          4064,
          4096,
          4120,
          4132,
          4132,
          4150,
          4158,
          4200,
          4209,
          4218,
          4251,
          4269,
          4273,
          4275,
          4287,
          4297,
          4319,
          4320,
          4531,
          4566,
          4567,
          4567,
          4568,
          4573,
          4586,
          4675,
          4682,
          4689,
          4747,
          4764,
          4824,
          4869,
          4952,
          4968,
          5000,
          5000,
          5000,
          5000,
          5005,
          5006,
          5027,
          5032,
          5040,
          5048,
          5259,
          5312,
          5328,
          5352,
          5489,
          5629,
          5672,
          5687,
          5880,
          5892,
          5895,
          5898,
          5964,
          5971,
          6083,
          6100,
          6382,
          6432,
          6458,
          6487,
          6553,
          6563,
          6589,
          6594,
          6711,
          6744,
          6754,
          7075,
          7145,
          7693,
          7965,
          8000,
          8211,
          8400,
          8569,
          9000,
          9901,
          9999,
          9999,
          9999,
          9999,
          9999,
          9999,
          9999,
          9999,
          9999,
          10000,
          10000,
          10000,
          10000,
          10000,
          10000,
          10000,
          10000,
          10000,
          10000,
          10000,
          10001,
          10001,
          10368,
          10467,
          11000,
          11987,
          12240,
          12344,
          14137,
          14237,
          18375,
          21000,
          31337
         ],
         "x0": " ",
         "xaxis": "x",
         "y0": " ",
         "yaxis": "y"
        }
       ],
       "layout": {
        "boxmode": "group",
        "legend": {
         "tracegroupgap": 0
        },
        "margin": {
         "t": 60
        },
        "template": {
         "data": {
          "bar": [
           {
            "error_x": {
             "color": "rgb(51,51,51)"
            },
            "error_y": {
             "color": "rgb(51,51,51)"
            },
            "marker": {
             "line": {
              "color": "rgb(237,237,237)",
              "width": 0.5
             }
            },
            "type": "bar"
           }
          ],
          "barpolar": [
           {
            "marker": {
             "line": {
              "color": "rgb(237,237,237)",
              "width": 0.5
             }
            },
            "type": "barpolar"
           }
          ],
          "carpet": [
           {
            "aaxis": {
             "endlinecolor": "rgb(51,51,51)",
             "gridcolor": "white",
             "linecolor": "white",
             "minorgridcolor": "white",
             "startlinecolor": "rgb(51,51,51)"
            },
            "baxis": {
             "endlinecolor": "rgb(51,51,51)",
             "gridcolor": "white",
             "linecolor": "white",
             "minorgridcolor": "white",
             "startlinecolor": "rgb(51,51,51)"
            },
            "type": "carpet"
           }
          ],
          "choropleth": [
           {
            "colorbar": {
             "outlinewidth": 0,
             "tickcolor": "rgb(237,237,237)",
             "ticklen": 6,
             "ticks": "inside"
            },
            "type": "choropleth"
           }
          ],
          "contour": [
           {
            "colorbar": {
             "outlinewidth": 0,
             "tickcolor": "rgb(237,237,237)",
             "ticklen": 6,
             "ticks": "inside"
            },
            "colorscale": [
             [
              0,
              "rgb(20,44,66)"
             ],
             [
              1,
              "rgb(90,179,244)"
             ]
            ],
            "type": "contour"
           }
          ],
          "contourcarpet": [
           {
            "colorbar": {
             "outlinewidth": 0,
             "tickcolor": "rgb(237,237,237)",
             "ticklen": 6,
             "ticks": "inside"
            },
            "type": "contourcarpet"
           }
          ],
          "heatmap": [
           {
            "colorbar": {
             "outlinewidth": 0,
             "tickcolor": "rgb(237,237,237)",
             "ticklen": 6,
             "ticks": "inside"
            },
            "colorscale": [
             [
              0,
              "rgb(20,44,66)"
             ],
             [
              1,
              "rgb(90,179,244)"
             ]
            ],
            "type": "heatmap"
           }
          ],
          "heatmapgl": [
           {
            "colorbar": {
             "outlinewidth": 0,
             "tickcolor": "rgb(237,237,237)",
             "ticklen": 6,
             "ticks": "inside"
            },
            "colorscale": [
             [
              0,
              "rgb(20,44,66)"
             ],
             [
              1,
              "rgb(90,179,244)"
             ]
            ],
            "type": "heatmapgl"
           }
          ],
          "histogram": [
           {
            "marker": {
             "colorbar": {
              "outlinewidth": 0,
              "tickcolor": "rgb(237,237,237)",
              "ticklen": 6,
              "ticks": "inside"
             }
            },
            "type": "histogram"
           }
          ],
          "histogram2d": [
           {
            "colorbar": {
             "outlinewidth": 0,
             "tickcolor": "rgb(237,237,237)",
             "ticklen": 6,
             "ticks": "inside"
            },
            "colorscale": [
             [
              0,
              "rgb(20,44,66)"
             ],
             [
              1,
              "rgb(90,179,244)"
             ]
            ],
            "type": "histogram2d"
           }
          ],
          "histogram2dcontour": [
           {
            "colorbar": {
             "outlinewidth": 0,
             "tickcolor": "rgb(237,237,237)",
             "ticklen": 6,
             "ticks": "inside"
            },
            "colorscale": [
             [
              0,
              "rgb(20,44,66)"
             ],
             [
              1,
              "rgb(90,179,244)"
             ]
            ],
            "type": "histogram2dcontour"
           }
          ],
          "mesh3d": [
           {
            "colorbar": {
             "outlinewidth": 0,
             "tickcolor": "rgb(237,237,237)",
             "ticklen": 6,
             "ticks": "inside"
            },
            "type": "mesh3d"
           }
          ],
          "parcoords": [
           {
            "line": {
             "colorbar": {
              "outlinewidth": 0,
              "tickcolor": "rgb(237,237,237)",
              "ticklen": 6,
              "ticks": "inside"
             }
            },
            "type": "parcoords"
           }
          ],
          "pie": [
           {
            "automargin": true,
            "type": "pie"
           }
          ],
          "scatter": [
           {
            "marker": {
             "colorbar": {
              "outlinewidth": 0,
              "tickcolor": "rgb(237,237,237)",
              "ticklen": 6,
              "ticks": "inside"
             }
            },
            "type": "scatter"
           }
          ],
          "scatter3d": [
           {
            "line": {
             "colorbar": {
              "outlinewidth": 0,
              "tickcolor": "rgb(237,237,237)",
              "ticklen": 6,
              "ticks": "inside"
             }
            },
            "marker": {
             "colorbar": {
              "outlinewidth": 0,
              "tickcolor": "rgb(237,237,237)",
              "ticklen": 6,
              "ticks": "inside"
             }
            },
            "type": "scatter3d"
           }
          ],
          "scattercarpet": [
           {
            "marker": {
             "colorbar": {
              "outlinewidth": 0,
              "tickcolor": "rgb(237,237,237)",
              "ticklen": 6,
              "ticks": "inside"
             }
            },
            "type": "scattercarpet"
           }
          ],
          "scattergeo": [
           {
            "marker": {
             "colorbar": {
              "outlinewidth": 0,
              "tickcolor": "rgb(237,237,237)",
              "ticklen": 6,
              "ticks": "inside"
             }
            },
            "type": "scattergeo"
           }
          ],
          "scattergl": [
           {
            "marker": {
             "colorbar": {
              "outlinewidth": 0,
              "tickcolor": "rgb(237,237,237)",
              "ticklen": 6,
              "ticks": "inside"
             }
            },
            "type": "scattergl"
           }
          ],
          "scattermapbox": [
           {
            "marker": {
             "colorbar": {
              "outlinewidth": 0,
              "tickcolor": "rgb(237,237,237)",
              "ticklen": 6,
              "ticks": "inside"
             }
            },
            "type": "scattermapbox"
           }
          ],
          "scatterpolar": [
           {
            "marker": {
             "colorbar": {
              "outlinewidth": 0,
              "tickcolor": "rgb(237,237,237)",
              "ticklen": 6,
              "ticks": "inside"
             }
            },
            "type": "scatterpolar"
           }
          ],
          "scatterpolargl": [
           {
            "marker": {
             "colorbar": {
              "outlinewidth": 0,
              "tickcolor": "rgb(237,237,237)",
              "ticklen": 6,
              "ticks": "inside"
             }
            },
            "type": "scatterpolargl"
           }
          ],
          "scatterternary": [
           {
            "marker": {
             "colorbar": {
              "outlinewidth": 0,
              "tickcolor": "rgb(237,237,237)",
              "ticklen": 6,
              "ticks": "inside"
             }
            },
            "type": "scatterternary"
           }
          ],
          "surface": [
           {
            "colorbar": {
             "outlinewidth": 0,
             "tickcolor": "rgb(237,237,237)",
             "ticklen": 6,
             "ticks": "inside"
            },
            "colorscale": [
             [
              0,
              "rgb(20,44,66)"
             ],
             [
              1,
              "rgb(90,179,244)"
             ]
            ],
            "type": "surface"
           }
          ],
          "table": [
           {
            "cells": {
             "fill": {
              "color": "rgb(237,237,237)"
             },
             "line": {
              "color": "white"
             }
            },
            "header": {
             "fill": {
              "color": "rgb(217,217,217)"
             },
             "line": {
              "color": "white"
             }
            },
            "type": "table"
           }
          ]
         },
         "layout": {
          "annotationdefaults": {
           "arrowhead": 0,
           "arrowwidth": 1
          },
          "coloraxis": {
           "colorbar": {
            "outlinewidth": 0,
            "tickcolor": "rgb(237,237,237)",
            "ticklen": 6,
            "ticks": "inside"
           }
          },
          "colorscale": {
           "sequential": [
            [
             0,
             "rgb(20,44,66)"
            ],
            [
             1,
             "rgb(90,179,244)"
            ]
           ],
           "sequentialminus": [
            [
             0,
             "rgb(20,44,66)"
            ],
            [
             1,
             "rgb(90,179,244)"
            ]
           ]
          },
          "colorway": [
           "#F8766D",
           "#A3A500",
           "#00BF7D",
           "#00B0F6",
           "#E76BF3"
          ],
          "font": {
           "color": "rgb(51,51,51)"
          },
          "geo": {
           "bgcolor": "white",
           "lakecolor": "white",
           "landcolor": "rgb(237,237,237)",
           "showlakes": true,
           "showland": true,
           "subunitcolor": "white"
          },
          "hoverlabel": {
           "align": "left"
          },
          "hovermode": "closest",
          "paper_bgcolor": "white",
          "plot_bgcolor": "rgb(237,237,237)",
          "polar": {
           "angularaxis": {
            "gridcolor": "white",
            "linecolor": "white",
            "showgrid": true,
            "tickcolor": "rgb(51,51,51)",
            "ticks": "outside"
           },
           "bgcolor": "rgb(237,237,237)",
           "radialaxis": {
            "gridcolor": "white",
            "linecolor": "white",
            "showgrid": true,
            "tickcolor": "rgb(51,51,51)",
            "ticks": "outside"
           }
          },
          "scene": {
           "xaxis": {
            "backgroundcolor": "rgb(237,237,237)",
            "gridcolor": "white",
            "gridwidth": 2,
            "linecolor": "white",
            "showbackground": true,
            "showgrid": true,
            "tickcolor": "rgb(51,51,51)",
            "ticks": "outside",
            "zerolinecolor": "white"
           },
           "yaxis": {
            "backgroundcolor": "rgb(237,237,237)",
            "gridcolor": "white",
            "gridwidth": 2,
            "linecolor": "white",
            "showbackground": true,
            "showgrid": true,
            "tickcolor": "rgb(51,51,51)",
            "ticks": "outside",
            "zerolinecolor": "white"
           },
           "zaxis": {
            "backgroundcolor": "rgb(237,237,237)",
            "gridcolor": "white",
            "gridwidth": 2,
            "linecolor": "white",
            "showbackground": true,
            "showgrid": true,
            "tickcolor": "rgb(51,51,51)",
            "ticks": "outside",
            "zerolinecolor": "white"
           }
          },
          "shapedefaults": {
           "fillcolor": "black",
           "line": {
            "width": 0
           },
           "opacity": 0.3
          },
          "ternary": {
           "aaxis": {
            "gridcolor": "white",
            "linecolor": "white",
            "showgrid": true,
            "tickcolor": "rgb(51,51,51)",
            "ticks": "outside"
           },
           "baxis": {
            "gridcolor": "white",
            "linecolor": "white",
            "showgrid": true,
            "tickcolor": "rgb(51,51,51)",
            "ticks": "outside"
           },
           "bgcolor": "rgb(237,237,237)",
           "caxis": {
            "gridcolor": "white",
            "linecolor": "white",
            "showgrid": true,
            "tickcolor": "rgb(51,51,51)",
            "ticks": "outside"
           }
          },
          "xaxis": {
           "automargin": true,
           "gridcolor": "white",
           "linecolor": "white",
           "showgrid": true,
           "tickcolor": "rgb(51,51,51)",
           "ticks": "outside",
           "title": {
            "standoff": 15
           },
           "zerolinecolor": "white"
          },
          "yaxis": {
           "automargin": true,
           "gridcolor": "white",
           "linecolor": "white",
           "showgrid": true,
           "tickcolor": "rgb(51,51,51)",
           "ticks": "outside",
           "title": {
            "standoff": 15
           },
           "zerolinecolor": "white"
          }
         }
        },
        "xaxis": {
         "anchor": "y",
         "domain": [
          0,
          1
         ],
         "tickvals": [
          200,
          500,
          1000,
          2000,
          5000,
          10000,
          20000,
          30000
         ],
         "title": {
          "text": "Guess at number of beans in jar"
         },
         "type": "log"
        },
        "yaxis": {
         "anchor": "x",
         "domain": [
          0,
          1
         ],
         "range": [
          -0.1,
          0.1
         ]
        }
       }
      }
     },
     "metadata": {}
    }
   ],
   "source": [
    "fig = px.strip(df, x=\"count\", template=\"ggplot2\", log_x=True)\n",
    "\n",
    "fig.update_layout(\n",
    "    xaxis=dict(\n",
    "        title=\"Guess at number of beans in jar\",\n",
    "        tickvals=[200, 500, 1000, 2000, 5000, 10000, 20000, 30000]\n",
    "    )\n",
    ")\n",
    "\n",
    "fig.update_yaxes(\n",
    "   range=(-0.1,.1)\n",
    ")\n",
    "\n",
    "fig.update_traces(marker_color=\"black\")\n",
    "\n",
    "fig"
   ]
  },
  {
   "cell_type": "code",
   "execution_count": 114,
   "metadata": {},
   "outputs": [
    {
     "output_type": "execute_result",
     "data": {
      "text/plain": "0.6989700043360189"
     },
     "metadata": {},
     "execution_count": 114
    }
   ],
   "source": [
    "np.log10(5)"
   ]
  },
  {
   "cell_type": "code",
   "execution_count": 131,
   "metadata": {},
   "outputs": [
    {
     "output_type": "display_data",
     "data": {
      "application/vnd.plotly.v1+json": {
       "config": {
        "plotlyServerURL": "https://plot.ly"
       },
       "data": [
        {
         "alignmentgroup": "True",
         "hovertemplate": "count=%{x}<extra></extra>",
         "legendgroup": "",
         "marker": {
          "color": "black"
         },
         "name": "",
         "notched": false,
         "offsetgroup": "",
         "orientation": "h",
         "showlegend": false,
         "type": "box",
         "x": [
          219,
          244,
          260,
          269,
          273,
          280,
          300,
          333,
          361,
          400,
          421,
          436,
          441,
          444,
          450,
          450,
          450,
          452,
          458,
          465,
          466,
          467,
          475,
          480,
          486,
          496,
          496,
          500,
          512,
          512,
          514,
          527,
          529,
          536,
          542,
          549,
          553,
          557,
          557,
          562,
          563,
          575,
          575,
          576,
          601,
          603,
          604,
          606,
          611,
          612,
          620,
          622,
          627,
          627,
          628,
          631,
          643,
          650,
          653,
          655,
          657,
          658,
          665,
          666,
          666,
          667,
          668,
          668,
          672,
          674,
          680,
          687,
          692,
          697,
          697,
          698,
          699,
          700,
          706,
          712,
          716,
          722,
          728,
          728,
          731,
          736,
          737,
          738,
          740,
          742,
          748,
          748,
          749,
          754,
          756,
          756,
          780,
          793,
          794,
          800,
          801,
          801,
          801,
          812,
          815,
          817,
          819,
          819,
          822,
          824,
          826,
          826,
          831,
          839,
          843,
          843,
          843,
          844,
          845,
          846,
          849,
          850,
          850,
          853,
          854,
          855,
          856,
          863,
          863,
          863,
          870,
          874,
          874,
          874,
          881,
          886,
          888,
          889,
          893,
          895,
          896,
          897,
          898,
          898,
          899,
          899,
          900,
          900,
          900,
          907,
          907,
          912,
          913,
          913,
          920,
          924,
          929,
          929,
          929,
          930,
          930,
          930,
          931,
          931,
          936,
          937,
          942,
          942,
          942,
          946,
          946,
          946,
          947,
          950,
          953,
          956,
          957,
          957,
          958,
          960,
          962,
          964,
          965,
          965,
          972,
          974,
          976,
          977,
          978,
          979,
          983,
          983,
          984,
          987,
          987,
          992,
          995,
          999,
          1000,
          1000,
          1000,
          1000,
          1000,
          1000,
          1000,
          1001,
          1009,
          1013,
          1020,
          1021,
          1023,
          1036,
          1037,
          1039,
          1044,
          1044,
          1046,
          1050,
          1054,
          1065,
          1082,
          1084,
          1085,
          1089,
          1096,
          1099,
          1100,
          1105,
          1109,
          1111,
          1112,
          1115,
          1121,
          1123,
          1123,
          1128,
          1131,
          1143,
          1146,
          1150,
          1154,
          1154,
          1177,
          1178,
          1189,
          1197,
          1198,
          1198,
          1198,
          1198,
          1198,
          1199,
          1200,
          1200,
          1200,
          1200,
          1202,
          1204,
          1206,
          1210,
          1212,
          1216,
          1216,
          1221,
          1221,
          1225,
          1226,
          1231,
          1233,
          1234,
          1234,
          1234,
          1234,
          1234,
          1241,
          1245,
          1250,
          1254,
          1255,
          1256,
          1256,
          1257,
          1257,
          1260,
          1264,
          1274,
          1275,
          1276,
          1280,
          1280,
          1283,
          1283,
          1286,
          1286,
          1293,
          1295,
          1296,
          1296,
          1296,
          1298,
          1300,
          1300,
          1300,
          1301,
          1312,
          1313,
          1320,
          1332,
          1334,
          1336,
          1336,
          1337,
          1337,
          1337,
          1337,
          1337,
          1337,
          1337,
          1337,
          1337,
          1338,
          1342,
          1348,
          1349,
          1350,
          1350,
          1350,
          1353,
          1356,
          1364,
          1372,
          1372,
          1385,
          1385,
          1387,
          1389,
          1389,
          1394,
          1396,
          1396,
          1399,
          1399,
          1403,
          1404,
          1411,
          1412,
          1414,
          1422,
          1423,
          1428,
          1428,
          1432,
          1432,
          1437,
          1440,
          1445,
          1450,
          1452,
          1452,
          1467,
          1469,
          1473,
          1479,
          1481,
          1485,
          1486,
          1487,
          1495,
          1496,
          1498,
          1499,
          1499,
          1499,
          1499,
          1500,
          1500,
          1500,
          1500,
          1500,
          1500,
          1506,
          1514,
          1517,
          1527,
          1528,
          1529,
          1530,
          1530,
          1541,
          1546,
          1546,
          1548,
          1548,
          1562,
          1563,
          1563,
          1567,
          1567,
          1569,
          1570,
          1573,
          1575,
          1577,
          1581,
          1582,
          1589,
          1598,
          1599,
          1600,
          1600,
          1601,
          1613,
          1616,
          1622,
          1628,
          1629,
          1631,
          1632,
          1633,
          1647,
          1649,
          1649,
          1656,
          1669,
          1676,
          1681,
          1696,
          1696,
          1697,
          1699,
          1700,
          1700,
          1706,
          1710,
          1723,
          1724,
          1724,
          1728,
          1728,
          1728,
          1729,
          1729,
          1729,
          1733,
          1734,
          1738,
          1738,
          1746,
          1749,
          1752,
          1754,
          1756,
          1758,
          1760,
          1765,
          1769,
          1771,
          1775,
          1776,
          1777,
          1780,
          1782,
          1785,
          1785,
          1796,
          1798,
          1799,
          1800,
          1800,
          1800,
          1800,
          1800,
          1800,
          1800,
          1800,
          1821,
          1826,
          1826,
          1833,
          1836,
          1836,
          1836,
          1836,
          1837,
          1845,
          1847,
          1848,
          1850,
          1856,
          1860,
          1867,
          1870,
          1871,
          1879,
          1879,
          1880,
          1880,
          1887,
          1889,
          1890,
          1890,
          1892,
          1899,
          1903,
          1906,
          1906,
          1908,
          1910,
          1919,
          1920,
          1927,
          1931,
          1931,
          1932,
          1937,
          1944,
          1962,
          1964,
          1975,
          1980,
          1982,
          1983,
          1985,
          1985,
          1989,
          1993,
          1994,
          1997,
          1998,
          2000,
          2000,
          2000,
          2000,
          2000,
          2000,
          2000,
          2000,
          2010,
          2011,
          2011,
          2011,
          2012,
          2012,
          2013,
          2013,
          2014,
          2016,
          2020,
          2020,
          2020,
          2032,
          2036,
          2038,
          2041,
          2042,
          2045,
          2049,
          2052,
          2054,
          2056,
          2057,
          2059,
          2060,
          2069,
          2072,
          2075,
          2079,
          2081,
          2081,
          2087,
          2097,
          2104,
          2111,
          2112,
          2119,
          2127,
          2128,
          2133,
          2135,
          2135,
          2137,
          2147,
          2147,
          2150,
          2153,
          2153,
          2159,
          2159,
          2164,
          2164,
          2165,
          2165,
          2168,
          2168,
          2175,
          2176,
          2177,
          2178,
          2189,
          2190,
          2225,
          2233,
          2243,
          2245,
          2248,
          2249,
          2253,
          2258,
          2262,
          2268,
          2268,
          2279,
          2284,
          2292,
          2299,
          2299,
          2299,
          2301,
          2314,
          2317,
          2323,
          2328,
          2333,
          2338,
          2340,
          2345,
          2345,
          2345,
          2353,
          2354,
          2359,
          2362,
          2365,
          2369,
          2374,
          2374,
          2383,
          2401,
          2421,
          2423,
          2427,
          2432,
          2445,
          2445,
          2447,
          2447,
          2448,
          2450,
          2451,
          2456,
          2458,
          2463,
          2466,
          2467,
          2472,
          2473,
          2483,
          2486,
          2494,
          2495,
          2497,
          2499,
          2500,
          2500,
          2500,
          2500,
          2527,
          2533,
          2537,
          2540,
          2541,
          2542,
          2544,
          2546,
          2547,
          2547,
          2549,
          2553,
          2562,
          2562,
          2567,
          2568,
          2568,
          2586,
          2596,
          2599,
          2600,
          2600,
          2600,
          2609,
          2636,
          2647,
          2672,
          2673,
          2690,
          2693,
          2710,
          2727,
          2732,
          2750,
          2760,
          2766,
          2804,
          2805,
          2816,
          2819,
          2826,
          2843,
          2843,
          2856,
          2856,
          2859,
          2861,
          2863,
          2865,
          2873,
          2874,
          2874,
          2880,
          2899,
          2989,
          2993,
          3000,
          3000,
          3000,
          3000,
          3003,
          3009,
          3010,
          3011,
          3014,
          3024,
          3050,
          3067,
          3098,
          3114,
          3122,
          3147,
          3149,
          3159,
          3200,
          3208,
          3209,
          3221,
          3225,
          3257,
          3269,
          3278,
          3281,
          3294,
          3316,
          3332,
          3333,
          3360,
          3375,
          3421,
          3425,
          3447,
          3452,
          3455,
          3456,
          3459,
          3467,
          3472,
          3485,
          3485,
          3487,
          3492,
          3550,
          3568,
          3575,
          3576,
          3577,
          3578,
          3584,
          3585,
          3600,
          3637,
          3652,
          3678,
          3689,
          3733,
          3765,
          3768,
          3780,
          3782,
          3825,
          3843,
          3846,
          3860,
          3872,
          3873,
          3879,
          3895,
          3961,
          3972,
          3976,
          3999,
          4000,
          4050,
          4051,
          4064,
          4096,
          4120,
          4132,
          4132,
          4150,
          4158,
          4200,
          4209,
          4218,
          4251,
          4269,
          4273,
          4275,
          4287,
          4297,
          4319,
          4320,
          4531,
          4566,
          4567,
          4567,
          4568,
          4573,
          4586,
          4675,
          4682,
          4689,
          4747,
          4764,
          4824,
          4869,
          4952,
          4968,
          5000,
          5000,
          5000,
          5000,
          5005,
          5006,
          5027,
          5032,
          5040,
          5048,
          5259,
          5312,
          5328,
          5352,
          5489,
          5629,
          5672,
          5687,
          5880,
          5892,
          5895,
          5898,
          5964,
          5971,
          6083,
          6100,
          6382,
          6432,
          6458,
          6487,
          6553,
          6563,
          6589,
          6594,
          6711,
          6744,
          6754,
          7075,
          7145,
          7693,
          7965,
          8000,
          8211,
          8400,
          8569,
          9000,
          9901,
          9999,
          9999,
          9999,
          9999,
          9999,
          9999,
          9999,
          9999,
          9999,
          10000,
          10000,
          10000,
          10000,
          10000,
          10000,
          10000,
          10000,
          10000,
          10000,
          10000,
          10001,
          10001,
          10368,
          10467,
          11000,
          11987,
          12240,
          12344,
          14137,
          14237,
          18375,
          21000,
          31337
         ],
         "x0": " ",
         "xaxis": "x",
         "y0": " ",
         "yaxis": "y"
        }
       ],
       "layout": {
        "boxmode": "group",
        "legend": {
         "tracegroupgap": 0
        },
        "margin": {
         "t": 60
        },
        "template": {
         "data": {
          "bar": [
           {
            "error_x": {
             "color": "rgb(51,51,51)"
            },
            "error_y": {
             "color": "rgb(51,51,51)"
            },
            "marker": {
             "line": {
              "color": "rgb(237,237,237)",
              "width": 0.5
             }
            },
            "type": "bar"
           }
          ],
          "barpolar": [
           {
            "marker": {
             "line": {
              "color": "rgb(237,237,237)",
              "width": 0.5
             }
            },
            "type": "barpolar"
           }
          ],
          "carpet": [
           {
            "aaxis": {
             "endlinecolor": "rgb(51,51,51)",
             "gridcolor": "white",
             "linecolor": "white",
             "minorgridcolor": "white",
             "startlinecolor": "rgb(51,51,51)"
            },
            "baxis": {
             "endlinecolor": "rgb(51,51,51)",
             "gridcolor": "white",
             "linecolor": "white",
             "minorgridcolor": "white",
             "startlinecolor": "rgb(51,51,51)"
            },
            "type": "carpet"
           }
          ],
          "choropleth": [
           {
            "colorbar": {
             "outlinewidth": 0,
             "tickcolor": "rgb(237,237,237)",
             "ticklen": 6,
             "ticks": "inside"
            },
            "type": "choropleth"
           }
          ],
          "contour": [
           {
            "colorbar": {
             "outlinewidth": 0,
             "tickcolor": "rgb(237,237,237)",
             "ticklen": 6,
             "ticks": "inside"
            },
            "colorscale": [
             [
              0,
              "rgb(20,44,66)"
             ],
             [
              1,
              "rgb(90,179,244)"
             ]
            ],
            "type": "contour"
           }
          ],
          "contourcarpet": [
           {
            "colorbar": {
             "outlinewidth": 0,
             "tickcolor": "rgb(237,237,237)",
             "ticklen": 6,
             "ticks": "inside"
            },
            "type": "contourcarpet"
           }
          ],
          "heatmap": [
           {
            "colorbar": {
             "outlinewidth": 0,
             "tickcolor": "rgb(237,237,237)",
             "ticklen": 6,
             "ticks": "inside"
            },
            "colorscale": [
             [
              0,
              "rgb(20,44,66)"
             ],
             [
              1,
              "rgb(90,179,244)"
             ]
            ],
            "type": "heatmap"
           }
          ],
          "heatmapgl": [
           {
            "colorbar": {
             "outlinewidth": 0,
             "tickcolor": "rgb(237,237,237)",
             "ticklen": 6,
             "ticks": "inside"
            },
            "colorscale": [
             [
              0,
              "rgb(20,44,66)"
             ],
             [
              1,
              "rgb(90,179,244)"
             ]
            ],
            "type": "heatmapgl"
           }
          ],
          "histogram": [
           {
            "marker": {
             "colorbar": {
              "outlinewidth": 0,
              "tickcolor": "rgb(237,237,237)",
              "ticklen": 6,
              "ticks": "inside"
             }
            },
            "type": "histogram"
           }
          ],
          "histogram2d": [
           {
            "colorbar": {
             "outlinewidth": 0,
             "tickcolor": "rgb(237,237,237)",
             "ticklen": 6,
             "ticks": "inside"
            },
            "colorscale": [
             [
              0,
              "rgb(20,44,66)"
             ],
             [
              1,
              "rgb(90,179,244)"
             ]
            ],
            "type": "histogram2d"
           }
          ],
          "histogram2dcontour": [
           {
            "colorbar": {
             "outlinewidth": 0,
             "tickcolor": "rgb(237,237,237)",
             "ticklen": 6,
             "ticks": "inside"
            },
            "colorscale": [
             [
              0,
              "rgb(20,44,66)"
             ],
             [
              1,
              "rgb(90,179,244)"
             ]
            ],
            "type": "histogram2dcontour"
           }
          ],
          "mesh3d": [
           {
            "colorbar": {
             "outlinewidth": 0,
             "tickcolor": "rgb(237,237,237)",
             "ticklen": 6,
             "ticks": "inside"
            },
            "type": "mesh3d"
           }
          ],
          "parcoords": [
           {
            "line": {
             "colorbar": {
              "outlinewidth": 0,
              "tickcolor": "rgb(237,237,237)",
              "ticklen": 6,
              "ticks": "inside"
             }
            },
            "type": "parcoords"
           }
          ],
          "pie": [
           {
            "automargin": true,
            "type": "pie"
           }
          ],
          "scatter": [
           {
            "marker": {
             "colorbar": {
              "outlinewidth": 0,
              "tickcolor": "rgb(237,237,237)",
              "ticklen": 6,
              "ticks": "inside"
             }
            },
            "type": "scatter"
           }
          ],
          "scatter3d": [
           {
            "line": {
             "colorbar": {
              "outlinewidth": 0,
              "tickcolor": "rgb(237,237,237)",
              "ticklen": 6,
              "ticks": "inside"
             }
            },
            "marker": {
             "colorbar": {
              "outlinewidth": 0,
              "tickcolor": "rgb(237,237,237)",
              "ticklen": 6,
              "ticks": "inside"
             }
            },
            "type": "scatter3d"
           }
          ],
          "scattercarpet": [
           {
            "marker": {
             "colorbar": {
              "outlinewidth": 0,
              "tickcolor": "rgb(237,237,237)",
              "ticklen": 6,
              "ticks": "inside"
             }
            },
            "type": "scattercarpet"
           }
          ],
          "scattergeo": [
           {
            "marker": {
             "colorbar": {
              "outlinewidth": 0,
              "tickcolor": "rgb(237,237,237)",
              "ticklen": 6,
              "ticks": "inside"
             }
            },
            "type": "scattergeo"
           }
          ],
          "scattergl": [
           {
            "marker": {
             "colorbar": {
              "outlinewidth": 0,
              "tickcolor": "rgb(237,237,237)",
              "ticklen": 6,
              "ticks": "inside"
             }
            },
            "type": "scattergl"
           }
          ],
          "scattermapbox": [
           {
            "marker": {
             "colorbar": {
              "outlinewidth": 0,
              "tickcolor": "rgb(237,237,237)",
              "ticklen": 6,
              "ticks": "inside"
             }
            },
            "type": "scattermapbox"
           }
          ],
          "scatterpolar": [
           {
            "marker": {
             "colorbar": {
              "outlinewidth": 0,
              "tickcolor": "rgb(237,237,237)",
              "ticklen": 6,
              "ticks": "inside"
             }
            },
            "type": "scatterpolar"
           }
          ],
          "scatterpolargl": [
           {
            "marker": {
             "colorbar": {
              "outlinewidth": 0,
              "tickcolor": "rgb(237,237,237)",
              "ticklen": 6,
              "ticks": "inside"
             }
            },
            "type": "scatterpolargl"
           }
          ],
          "scatterternary": [
           {
            "marker": {
             "colorbar": {
              "outlinewidth": 0,
              "tickcolor": "rgb(237,237,237)",
              "ticklen": 6,
              "ticks": "inside"
             }
            },
            "type": "scatterternary"
           }
          ],
          "surface": [
           {
            "colorbar": {
             "outlinewidth": 0,
             "tickcolor": "rgb(237,237,237)",
             "ticklen": 6,
             "ticks": "inside"
            },
            "colorscale": [
             [
              0,
              "rgb(20,44,66)"
             ],
             [
              1,
              "rgb(90,179,244)"
             ]
            ],
            "type": "surface"
           }
          ],
          "table": [
           {
            "cells": {
             "fill": {
              "color": "rgb(237,237,237)"
             },
             "line": {
              "color": "white"
             }
            },
            "header": {
             "fill": {
              "color": "rgb(217,217,217)"
             },
             "line": {
              "color": "white"
             }
            },
            "type": "table"
           }
          ]
         },
         "layout": {
          "annotationdefaults": {
           "arrowhead": 0,
           "arrowwidth": 1
          },
          "coloraxis": {
           "colorbar": {
            "outlinewidth": 0,
            "tickcolor": "rgb(237,237,237)",
            "ticklen": 6,
            "ticks": "inside"
           }
          },
          "colorscale": {
           "sequential": [
            [
             0,
             "rgb(20,44,66)"
            ],
            [
             1,
             "rgb(90,179,244)"
            ]
           ],
           "sequentialminus": [
            [
             0,
             "rgb(20,44,66)"
            ],
            [
             1,
             "rgb(90,179,244)"
            ]
           ]
          },
          "colorway": [
           "#F8766D",
           "#A3A500",
           "#00BF7D",
           "#00B0F6",
           "#E76BF3"
          ],
          "font": {
           "color": "rgb(51,51,51)"
          },
          "geo": {
           "bgcolor": "white",
           "lakecolor": "white",
           "landcolor": "rgb(237,237,237)",
           "showlakes": true,
           "showland": true,
           "subunitcolor": "white"
          },
          "hoverlabel": {
           "align": "left"
          },
          "hovermode": "closest",
          "paper_bgcolor": "white",
          "plot_bgcolor": "rgb(237,237,237)",
          "polar": {
           "angularaxis": {
            "gridcolor": "white",
            "linecolor": "white",
            "showgrid": true,
            "tickcolor": "rgb(51,51,51)",
            "ticks": "outside"
           },
           "bgcolor": "rgb(237,237,237)",
           "radialaxis": {
            "gridcolor": "white",
            "linecolor": "white",
            "showgrid": true,
            "tickcolor": "rgb(51,51,51)",
            "ticks": "outside"
           }
          },
          "scene": {
           "xaxis": {
            "backgroundcolor": "rgb(237,237,237)",
            "gridcolor": "white",
            "gridwidth": 2,
            "linecolor": "white",
            "showbackground": true,
            "showgrid": true,
            "tickcolor": "rgb(51,51,51)",
            "ticks": "outside",
            "zerolinecolor": "white"
           },
           "yaxis": {
            "backgroundcolor": "rgb(237,237,237)",
            "gridcolor": "white",
            "gridwidth": 2,
            "linecolor": "white",
            "showbackground": true,
            "showgrid": true,
            "tickcolor": "rgb(51,51,51)",
            "ticks": "outside",
            "zerolinecolor": "white"
           },
           "zaxis": {
            "backgroundcolor": "rgb(237,237,237)",
            "gridcolor": "white",
            "gridwidth": 2,
            "linecolor": "white",
            "showbackground": true,
            "showgrid": true,
            "tickcolor": "rgb(51,51,51)",
            "ticks": "outside",
            "zerolinecolor": "white"
           }
          },
          "shapedefaults": {
           "fillcolor": "black",
           "line": {
            "width": 0
           },
           "opacity": 0.3
          },
          "ternary": {
           "aaxis": {
            "gridcolor": "white",
            "linecolor": "white",
            "showgrid": true,
            "tickcolor": "rgb(51,51,51)",
            "ticks": "outside"
           },
           "baxis": {
            "gridcolor": "white",
            "linecolor": "white",
            "showgrid": true,
            "tickcolor": "rgb(51,51,51)",
            "ticks": "outside"
           },
           "bgcolor": "rgb(237,237,237)",
           "caxis": {
            "gridcolor": "white",
            "linecolor": "white",
            "showgrid": true,
            "tickcolor": "rgb(51,51,51)",
            "ticks": "outside"
           }
          },
          "xaxis": {
           "automargin": true,
           "gridcolor": "white",
           "linecolor": "white",
           "showgrid": true,
           "tickcolor": "rgb(51,51,51)",
           "ticks": "outside",
           "title": {
            "standoff": 15
           },
           "zerolinecolor": "white"
          },
          "yaxis": {
           "automargin": true,
           "gridcolor": "white",
           "linecolor": "white",
           "showgrid": true,
           "tickcolor": "rgb(51,51,51)",
           "ticks": "outside",
           "title": {
            "standoff": 15
           },
           "zerolinecolor": "white"
          }
         }
        },
        "xaxis": {
         "anchor": "y",
         "domain": [
          0,
          1
         ],
         "dtick": 5000,
         "tick0": 0,
         "title": {
          "text": "Guess at number of beans in jar"
         }
        },
        "yaxis": {
         "anchor": "x",
         "domain": [
          0,
          1
         ]
        }
       }
      }
     },
     "metadata": {}
    }
   ],
   "source": [
    "fig = px.box(df, x=\"count\", template=\"ggplot2\")\n",
    "\n",
    "fig.update_layout(\n",
    "    xaxis=dict(\n",
    "        title=\"Guess at number of beans in jar\",\n",
    "        tick0=0,\n",
    "        dtick=5000,\n",
    "        \n",
    "    )\n",
    ")\n",
    "\n",
    "fig.update_traces(marker_color=\"black\")\n",
    "\n",
    "fig"
   ]
  },
  {
   "cell_type": "code",
   "execution_count": 154,
   "metadata": {},
   "outputs": [
    {
     "output_type": "display_data",
     "data": {
      "application/vnd.plotly.v1+json": {
       "config": {
        "plotlyServerURL": "https://plot.ly"
       },
       "data": [
        {
         "alignmentgroup": "True",
         "hovertemplate": "count=%{x}<extra></extra>",
         "legendgroup": "",
         "marker": {
          "color": "black"
         },
         "name": "",
         "notched": false,
         "offsetgroup": "",
         "orientation": "h",
         "showlegend": false,
         "type": "box",
         "x": [
          219,
          244,
          260,
          269,
          273,
          280,
          300,
          333,
          361,
          400,
          421,
          436,
          441,
          444,
          450,
          450,
          450,
          452,
          458,
          465,
          466,
          467,
          475,
          480,
          486,
          496,
          496,
          500,
          512,
          512,
          514,
          527,
          529,
          536,
          542,
          549,
          553,
          557,
          557,
          562,
          563,
          575,
          575,
          576,
          601,
          603,
          604,
          606,
          611,
          612,
          620,
          622,
          627,
          627,
          628,
          631,
          643,
          650,
          653,
          655,
          657,
          658,
          665,
          666,
          666,
          667,
          668,
          668,
          672,
          674,
          680,
          687,
          692,
          697,
          697,
          698,
          699,
          700,
          706,
          712,
          716,
          722,
          728,
          728,
          731,
          736,
          737,
          738,
          740,
          742,
          748,
          748,
          749,
          754,
          756,
          756,
          780,
          793,
          794,
          800,
          801,
          801,
          801,
          812,
          815,
          817,
          819,
          819,
          822,
          824,
          826,
          826,
          831,
          839,
          843,
          843,
          843,
          844,
          845,
          846,
          849,
          850,
          850,
          853,
          854,
          855,
          856,
          863,
          863,
          863,
          870,
          874,
          874,
          874,
          881,
          886,
          888,
          889,
          893,
          895,
          896,
          897,
          898,
          898,
          899,
          899,
          900,
          900,
          900,
          907,
          907,
          912,
          913,
          913,
          920,
          924,
          929,
          929,
          929,
          930,
          930,
          930,
          931,
          931,
          936,
          937,
          942,
          942,
          942,
          946,
          946,
          946,
          947,
          950,
          953,
          956,
          957,
          957,
          958,
          960,
          962,
          964,
          965,
          965,
          972,
          974,
          976,
          977,
          978,
          979,
          983,
          983,
          984,
          987,
          987,
          992,
          995,
          999,
          1000,
          1000,
          1000,
          1000,
          1000,
          1000,
          1000,
          1001,
          1009,
          1013,
          1020,
          1021,
          1023,
          1036,
          1037,
          1039,
          1044,
          1044,
          1046,
          1050,
          1054,
          1065,
          1082,
          1084,
          1085,
          1089,
          1096,
          1099,
          1100,
          1105,
          1109,
          1111,
          1112,
          1115,
          1121,
          1123,
          1123,
          1128,
          1131,
          1143,
          1146,
          1150,
          1154,
          1154,
          1177,
          1178,
          1189,
          1197,
          1198,
          1198,
          1198,
          1198,
          1198,
          1199,
          1200,
          1200,
          1200,
          1200,
          1202,
          1204,
          1206,
          1210,
          1212,
          1216,
          1216,
          1221,
          1221,
          1225,
          1226,
          1231,
          1233,
          1234,
          1234,
          1234,
          1234,
          1234,
          1241,
          1245,
          1250,
          1254,
          1255,
          1256,
          1256,
          1257,
          1257,
          1260,
          1264,
          1274,
          1275,
          1276,
          1280,
          1280,
          1283,
          1283,
          1286,
          1286,
          1293,
          1295,
          1296,
          1296,
          1296,
          1298,
          1300,
          1300,
          1300,
          1301,
          1312,
          1313,
          1320,
          1332,
          1334,
          1336,
          1336,
          1337,
          1337,
          1337,
          1337,
          1337,
          1337,
          1337,
          1337,
          1337,
          1338,
          1342,
          1348,
          1349,
          1350,
          1350,
          1350,
          1353,
          1356,
          1364,
          1372,
          1372,
          1385,
          1385,
          1387,
          1389,
          1389,
          1394,
          1396,
          1396,
          1399,
          1399,
          1403,
          1404,
          1411,
          1412,
          1414,
          1422,
          1423,
          1428,
          1428,
          1432,
          1432,
          1437,
          1440,
          1445,
          1450,
          1452,
          1452,
          1467,
          1469,
          1473,
          1479,
          1481,
          1485,
          1486,
          1487,
          1495,
          1496,
          1498,
          1499,
          1499,
          1499,
          1499,
          1500,
          1500,
          1500,
          1500,
          1500,
          1500,
          1506,
          1514,
          1517,
          1527,
          1528,
          1529,
          1530,
          1530,
          1541,
          1546,
          1546,
          1548,
          1548,
          1562,
          1563,
          1563,
          1567,
          1567,
          1569,
          1570,
          1573,
          1575,
          1577,
          1581,
          1582,
          1589,
          1598,
          1599,
          1600,
          1600,
          1601,
          1613,
          1616,
          1622,
          1628,
          1629,
          1631,
          1632,
          1633,
          1647,
          1649,
          1649,
          1656,
          1669,
          1676,
          1681,
          1696,
          1696,
          1697,
          1699,
          1700,
          1700,
          1706,
          1710,
          1723,
          1724,
          1724,
          1728,
          1728,
          1728,
          1729,
          1729,
          1729,
          1733,
          1734,
          1738,
          1738,
          1746,
          1749,
          1752,
          1754,
          1756,
          1758,
          1760,
          1765,
          1769,
          1771,
          1775,
          1776,
          1777,
          1780,
          1782,
          1785,
          1785,
          1796,
          1798,
          1799,
          1800,
          1800,
          1800,
          1800,
          1800,
          1800,
          1800,
          1800,
          1821,
          1826,
          1826,
          1833,
          1836,
          1836,
          1836,
          1836,
          1837,
          1845,
          1847,
          1848,
          1850,
          1856,
          1860,
          1867,
          1870,
          1871,
          1879,
          1879,
          1880,
          1880,
          1887,
          1889,
          1890,
          1890,
          1892,
          1899,
          1903,
          1906,
          1906,
          1908,
          1910,
          1919,
          1920,
          1927,
          1931,
          1931,
          1932,
          1937,
          1944,
          1962,
          1964,
          1975,
          1980,
          1982,
          1983,
          1985,
          1985,
          1989,
          1993,
          1994,
          1997,
          1998,
          2000,
          2000,
          2000,
          2000,
          2000,
          2000,
          2000,
          2000,
          2010,
          2011,
          2011,
          2011,
          2012,
          2012,
          2013,
          2013,
          2014,
          2016,
          2020,
          2020,
          2020,
          2032,
          2036,
          2038,
          2041,
          2042,
          2045,
          2049,
          2052,
          2054,
          2056,
          2057,
          2059,
          2060,
          2069,
          2072,
          2075,
          2079,
          2081,
          2081,
          2087,
          2097,
          2104,
          2111,
          2112,
          2119,
          2127,
          2128,
          2133,
          2135,
          2135,
          2137,
          2147,
          2147,
          2150,
          2153,
          2153,
          2159,
          2159,
          2164,
          2164,
          2165,
          2165,
          2168,
          2168,
          2175,
          2176,
          2177,
          2178,
          2189,
          2190,
          2225,
          2233,
          2243,
          2245,
          2248,
          2249,
          2253,
          2258,
          2262,
          2268,
          2268,
          2279,
          2284,
          2292,
          2299,
          2299,
          2299,
          2301,
          2314,
          2317,
          2323,
          2328,
          2333,
          2338,
          2340,
          2345,
          2345,
          2345,
          2353,
          2354,
          2359,
          2362,
          2365,
          2369,
          2374,
          2374,
          2383,
          2401,
          2421,
          2423,
          2427,
          2432,
          2445,
          2445,
          2447,
          2447,
          2448,
          2450,
          2451,
          2456,
          2458,
          2463,
          2466,
          2467,
          2472,
          2473,
          2483,
          2486,
          2494,
          2495,
          2497,
          2499,
          2500,
          2500,
          2500,
          2500,
          2527,
          2533,
          2537,
          2540,
          2541,
          2542,
          2544,
          2546,
          2547,
          2547,
          2549,
          2553,
          2562,
          2562,
          2567,
          2568,
          2568,
          2586,
          2596,
          2599,
          2600,
          2600,
          2600,
          2609,
          2636,
          2647,
          2672,
          2673,
          2690,
          2693,
          2710,
          2727,
          2732,
          2750,
          2760,
          2766,
          2804,
          2805,
          2816,
          2819,
          2826,
          2843,
          2843,
          2856,
          2856,
          2859,
          2861,
          2863,
          2865,
          2873,
          2874,
          2874,
          2880,
          2899,
          2989,
          2993,
          3000,
          3000,
          3000,
          3000,
          3003,
          3009,
          3010,
          3011,
          3014,
          3024,
          3050,
          3067,
          3098,
          3114,
          3122,
          3147,
          3149,
          3159,
          3200,
          3208,
          3209,
          3221,
          3225,
          3257,
          3269,
          3278,
          3281,
          3294,
          3316,
          3332,
          3333,
          3360,
          3375,
          3421,
          3425,
          3447,
          3452,
          3455,
          3456,
          3459,
          3467,
          3472,
          3485,
          3485,
          3487,
          3492,
          3550,
          3568,
          3575,
          3576,
          3577,
          3578,
          3584,
          3585,
          3600,
          3637,
          3652,
          3678,
          3689,
          3733,
          3765,
          3768,
          3780,
          3782,
          3825,
          3843,
          3846,
          3860,
          3872,
          3873,
          3879,
          3895,
          3961,
          3972,
          3976,
          3999,
          4000,
          4050,
          4051,
          4064,
          4096,
          4120,
          4132,
          4132,
          4150,
          4158,
          4200,
          4209,
          4218,
          4251,
          4269,
          4273,
          4275,
          4287,
          4297,
          4319,
          4320,
          4531,
          4566,
          4567,
          4567,
          4568,
          4573,
          4586,
          4675,
          4682,
          4689,
          4747,
          4764,
          4824,
          4869,
          4952,
          4968,
          5000,
          5000,
          5000,
          5000,
          5005,
          5006,
          5027,
          5032,
          5040,
          5048,
          5259,
          5312,
          5328,
          5352,
          5489,
          5629,
          5672,
          5687,
          5880,
          5892,
          5895,
          5898,
          5964,
          5971,
          6083,
          6100,
          6382,
          6432,
          6458,
          6487,
          6553,
          6563,
          6589,
          6594,
          6711,
          6744,
          6754,
          7075,
          7145,
          7693,
          7965,
          8000,
          8211,
          8400,
          8569,
          9000,
          9901,
          9999,
          9999,
          9999,
          9999,
          9999,
          9999,
          9999,
          9999,
          9999,
          10000,
          10000,
          10000,
          10000,
          10000,
          10000,
          10000,
          10000,
          10000,
          10000,
          10000,
          10001,
          10001,
          10368,
          10467,
          11000,
          11987,
          12240,
          12344,
          14137,
          14237,
          18375,
          21000,
          31337
         ],
         "x0": " ",
         "xaxis": "x",
         "y0": " ",
         "yaxis": "y"
        }
       ],
       "layout": {
        "boxmode": "group",
        "legend": {
         "tracegroupgap": 0
        },
        "margin": {
         "t": 60
        },
        "template": {
         "data": {
          "bar": [
           {
            "error_x": {
             "color": "rgb(51,51,51)"
            },
            "error_y": {
             "color": "rgb(51,51,51)"
            },
            "marker": {
             "line": {
              "color": "rgb(237,237,237)",
              "width": 0.5
             }
            },
            "type": "bar"
           }
          ],
          "barpolar": [
           {
            "marker": {
             "line": {
              "color": "rgb(237,237,237)",
              "width": 0.5
             }
            },
            "type": "barpolar"
           }
          ],
          "carpet": [
           {
            "aaxis": {
             "endlinecolor": "rgb(51,51,51)",
             "gridcolor": "white",
             "linecolor": "white",
             "minorgridcolor": "white",
             "startlinecolor": "rgb(51,51,51)"
            },
            "baxis": {
             "endlinecolor": "rgb(51,51,51)",
             "gridcolor": "white",
             "linecolor": "white",
             "minorgridcolor": "white",
             "startlinecolor": "rgb(51,51,51)"
            },
            "type": "carpet"
           }
          ],
          "choropleth": [
           {
            "colorbar": {
             "outlinewidth": 0,
             "tickcolor": "rgb(237,237,237)",
             "ticklen": 6,
             "ticks": "inside"
            },
            "type": "choropleth"
           }
          ],
          "contour": [
           {
            "colorbar": {
             "outlinewidth": 0,
             "tickcolor": "rgb(237,237,237)",
             "ticklen": 6,
             "ticks": "inside"
            },
            "colorscale": [
             [
              0,
              "rgb(20,44,66)"
             ],
             [
              1,
              "rgb(90,179,244)"
             ]
            ],
            "type": "contour"
           }
          ],
          "contourcarpet": [
           {
            "colorbar": {
             "outlinewidth": 0,
             "tickcolor": "rgb(237,237,237)",
             "ticklen": 6,
             "ticks": "inside"
            },
            "type": "contourcarpet"
           }
          ],
          "heatmap": [
           {
            "colorbar": {
             "outlinewidth": 0,
             "tickcolor": "rgb(237,237,237)",
             "ticklen": 6,
             "ticks": "inside"
            },
            "colorscale": [
             [
              0,
              "rgb(20,44,66)"
             ],
             [
              1,
              "rgb(90,179,244)"
             ]
            ],
            "type": "heatmap"
           }
          ],
          "heatmapgl": [
           {
            "colorbar": {
             "outlinewidth": 0,
             "tickcolor": "rgb(237,237,237)",
             "ticklen": 6,
             "ticks": "inside"
            },
            "colorscale": [
             [
              0,
              "rgb(20,44,66)"
             ],
             [
              1,
              "rgb(90,179,244)"
             ]
            ],
            "type": "heatmapgl"
           }
          ],
          "histogram": [
           {
            "marker": {
             "colorbar": {
              "outlinewidth": 0,
              "tickcolor": "rgb(237,237,237)",
              "ticklen": 6,
              "ticks": "inside"
             }
            },
            "type": "histogram"
           }
          ],
          "histogram2d": [
           {
            "colorbar": {
             "outlinewidth": 0,
             "tickcolor": "rgb(237,237,237)",
             "ticklen": 6,
             "ticks": "inside"
            },
            "colorscale": [
             [
              0,
              "rgb(20,44,66)"
             ],
             [
              1,
              "rgb(90,179,244)"
             ]
            ],
            "type": "histogram2d"
           }
          ],
          "histogram2dcontour": [
           {
            "colorbar": {
             "outlinewidth": 0,
             "tickcolor": "rgb(237,237,237)",
             "ticklen": 6,
             "ticks": "inside"
            },
            "colorscale": [
             [
              0,
              "rgb(20,44,66)"
             ],
             [
              1,
              "rgb(90,179,244)"
             ]
            ],
            "type": "histogram2dcontour"
           }
          ],
          "mesh3d": [
           {
            "colorbar": {
             "outlinewidth": 0,
             "tickcolor": "rgb(237,237,237)",
             "ticklen": 6,
             "ticks": "inside"
            },
            "type": "mesh3d"
           }
          ],
          "parcoords": [
           {
            "line": {
             "colorbar": {
              "outlinewidth": 0,
              "tickcolor": "rgb(237,237,237)",
              "ticklen": 6,
              "ticks": "inside"
             }
            },
            "type": "parcoords"
           }
          ],
          "pie": [
           {
            "automargin": true,
            "type": "pie"
           }
          ],
          "scatter": [
           {
            "marker": {
             "colorbar": {
              "outlinewidth": 0,
              "tickcolor": "rgb(237,237,237)",
              "ticklen": 6,
              "ticks": "inside"
             }
            },
            "type": "scatter"
           }
          ],
          "scatter3d": [
           {
            "line": {
             "colorbar": {
              "outlinewidth": 0,
              "tickcolor": "rgb(237,237,237)",
              "ticklen": 6,
              "ticks": "inside"
             }
            },
            "marker": {
             "colorbar": {
              "outlinewidth": 0,
              "tickcolor": "rgb(237,237,237)",
              "ticklen": 6,
              "ticks": "inside"
             }
            },
            "type": "scatter3d"
           }
          ],
          "scattercarpet": [
           {
            "marker": {
             "colorbar": {
              "outlinewidth": 0,
              "tickcolor": "rgb(237,237,237)",
              "ticklen": 6,
              "ticks": "inside"
             }
            },
            "type": "scattercarpet"
           }
          ],
          "scattergeo": [
           {
            "marker": {
             "colorbar": {
              "outlinewidth": 0,
              "tickcolor": "rgb(237,237,237)",
              "ticklen": 6,
              "ticks": "inside"
             }
            },
            "type": "scattergeo"
           }
          ],
          "scattergl": [
           {
            "marker": {
             "colorbar": {
              "outlinewidth": 0,
              "tickcolor": "rgb(237,237,237)",
              "ticklen": 6,
              "ticks": "inside"
             }
            },
            "type": "scattergl"
           }
          ],
          "scattermapbox": [
           {
            "marker": {
             "colorbar": {
              "outlinewidth": 0,
              "tickcolor": "rgb(237,237,237)",
              "ticklen": 6,
              "ticks": "inside"
             }
            },
            "type": "scattermapbox"
           }
          ],
          "scatterpolar": [
           {
            "marker": {
             "colorbar": {
              "outlinewidth": 0,
              "tickcolor": "rgb(237,237,237)",
              "ticklen": 6,
              "ticks": "inside"
             }
            },
            "type": "scatterpolar"
           }
          ],
          "scatterpolargl": [
           {
            "marker": {
             "colorbar": {
              "outlinewidth": 0,
              "tickcolor": "rgb(237,237,237)",
              "ticklen": 6,
              "ticks": "inside"
             }
            },
            "type": "scatterpolargl"
           }
          ],
          "scatterternary": [
           {
            "marker": {
             "colorbar": {
              "outlinewidth": 0,
              "tickcolor": "rgb(237,237,237)",
              "ticklen": 6,
              "ticks": "inside"
             }
            },
            "type": "scatterternary"
           }
          ],
          "surface": [
           {
            "colorbar": {
             "outlinewidth": 0,
             "tickcolor": "rgb(237,237,237)",
             "ticklen": 6,
             "ticks": "inside"
            },
            "colorscale": [
             [
              0,
              "rgb(20,44,66)"
             ],
             [
              1,
              "rgb(90,179,244)"
             ]
            ],
            "type": "surface"
           }
          ],
          "table": [
           {
            "cells": {
             "fill": {
              "color": "rgb(237,237,237)"
             },
             "line": {
              "color": "white"
             }
            },
            "header": {
             "fill": {
              "color": "rgb(217,217,217)"
             },
             "line": {
              "color": "white"
             }
            },
            "type": "table"
           }
          ]
         },
         "layout": {
          "annotationdefaults": {
           "arrowhead": 0,
           "arrowwidth": 1
          },
          "coloraxis": {
           "colorbar": {
            "outlinewidth": 0,
            "tickcolor": "rgb(237,237,237)",
            "ticklen": 6,
            "ticks": "inside"
           }
          },
          "colorscale": {
           "sequential": [
            [
             0,
             "rgb(20,44,66)"
            ],
            [
             1,
             "rgb(90,179,244)"
            ]
           ],
           "sequentialminus": [
            [
             0,
             "rgb(20,44,66)"
            ],
            [
             1,
             "rgb(90,179,244)"
            ]
           ]
          },
          "colorway": [
           "#F8766D",
           "#A3A500",
           "#00BF7D",
           "#00B0F6",
           "#E76BF3"
          ],
          "font": {
           "color": "rgb(51,51,51)"
          },
          "geo": {
           "bgcolor": "white",
           "lakecolor": "white",
           "landcolor": "rgb(237,237,237)",
           "showlakes": true,
           "showland": true,
           "subunitcolor": "white"
          },
          "hoverlabel": {
           "align": "left"
          },
          "hovermode": "closest",
          "paper_bgcolor": "white",
          "plot_bgcolor": "rgb(237,237,237)",
          "polar": {
           "angularaxis": {
            "gridcolor": "white",
            "linecolor": "white",
            "showgrid": true,
            "tickcolor": "rgb(51,51,51)",
            "ticks": "outside"
           },
           "bgcolor": "rgb(237,237,237)",
           "radialaxis": {
            "gridcolor": "white",
            "linecolor": "white",
            "showgrid": true,
            "tickcolor": "rgb(51,51,51)",
            "ticks": "outside"
           }
          },
          "scene": {
           "xaxis": {
            "backgroundcolor": "rgb(237,237,237)",
            "gridcolor": "white",
            "gridwidth": 2,
            "linecolor": "white",
            "showbackground": true,
            "showgrid": true,
            "tickcolor": "rgb(51,51,51)",
            "ticks": "outside",
            "zerolinecolor": "white"
           },
           "yaxis": {
            "backgroundcolor": "rgb(237,237,237)",
            "gridcolor": "white",
            "gridwidth": 2,
            "linecolor": "white",
            "showbackground": true,
            "showgrid": true,
            "tickcolor": "rgb(51,51,51)",
            "ticks": "outside",
            "zerolinecolor": "white"
           },
           "zaxis": {
            "backgroundcolor": "rgb(237,237,237)",
            "gridcolor": "white",
            "gridwidth": 2,
            "linecolor": "white",
            "showbackground": true,
            "showgrid": true,
            "tickcolor": "rgb(51,51,51)",
            "ticks": "outside",
            "zerolinecolor": "white"
           }
          },
          "shapedefaults": {
           "fillcolor": "black",
           "line": {
            "width": 0
           },
           "opacity": 0.3
          },
          "ternary": {
           "aaxis": {
            "gridcolor": "white",
            "linecolor": "white",
            "showgrid": true,
            "tickcolor": "rgb(51,51,51)",
            "ticks": "outside"
           },
           "baxis": {
            "gridcolor": "white",
            "linecolor": "white",
            "showgrid": true,
            "tickcolor": "rgb(51,51,51)",
            "ticks": "outside"
           },
           "bgcolor": "rgb(237,237,237)",
           "caxis": {
            "gridcolor": "white",
            "linecolor": "white",
            "showgrid": true,
            "tickcolor": "rgb(51,51,51)",
            "ticks": "outside"
           }
          },
          "xaxis": {
           "automargin": true,
           "gridcolor": "white",
           "linecolor": "white",
           "showgrid": true,
           "tickcolor": "rgb(51,51,51)",
           "ticks": "outside",
           "title": {
            "standoff": 15
           },
           "zerolinecolor": "white"
          },
          "yaxis": {
           "automargin": true,
           "gridcolor": "white",
           "linecolor": "white",
           "showgrid": true,
           "tickcolor": "rgb(51,51,51)",
           "ticks": "outside",
           "title": {
            "standoff": 15
           },
           "zerolinecolor": "white"
          }
         }
        },
        "xaxis": {
         "anchor": "y",
         "domain": [
          0,
          1
         ],
         "tickvals": [
          200,
          500,
          1000,
          2000,
          5000,
          10000,
          20000,
          30000
         ],
         "title": {
          "text": "Guess at number of beans in jar"
         },
         "type": "log"
        },
        "yaxis": {
         "anchor": "x",
         "domain": [
          0,
          1
         ]
        }
       }
      }
     },
     "metadata": {}
    }
   ],
   "source": [
    "fig = px.box(df, x=\"count\", template=\"ggplot2\", log_x=True)\n",
    "\n",
    "fig.update_layout(\n",
    "    xaxis=dict(\n",
    "        title=\"Guess at number of beans in jar\",\n",
    "        tickvals=[200, 500, 1000, 2000, 5000, 10000, 20000, 30000]\n",
    "    )\n",
    ")\n",
    "\n",
    "fig.update_traces(marker_color=\"black\")\n",
    "\n",
    "fig"
   ]
  },
  {
   "cell_type": "code",
   "execution_count": 155,
   "metadata": {},
   "outputs": [
    {
     "output_type": "display_data",
     "data": {
      "application/vnd.plotly.v1+json": {
       "config": {
        "plotlyServerURL": "https://plot.ly"
       },
       "data": [
        {
         "alignmentgroup": "True",
         "bingroup": "x",
         "hovertemplate": "count=%{y}<extra></extra>",
         "legendgroup": "",
         "marker": {
          "color": "grey"
         },
         "name": "",
         "nbinsx": 50,
         "offsetgroup": "",
         "orientation": "v",
         "showlegend": false,
         "type": "histogram",
         "x": [
          219,
          244,
          260,
          269,
          273,
          280,
          300,
          333,
          361,
          400,
          421,
          436,
          441,
          444,
          450,
          450,
          450,
          452,
          458,
          465,
          466,
          467,
          475,
          480,
          486,
          496,
          496,
          500,
          512,
          512,
          514,
          527,
          529,
          536,
          542,
          549,
          553,
          557,
          557,
          562,
          563,
          575,
          575,
          576,
          601,
          603,
          604,
          606,
          611,
          612,
          620,
          622,
          627,
          627,
          628,
          631,
          643,
          650,
          653,
          655,
          657,
          658,
          665,
          666,
          666,
          667,
          668,
          668,
          672,
          674,
          680,
          687,
          692,
          697,
          697,
          698,
          699,
          700,
          706,
          712,
          716,
          722,
          728,
          728,
          731,
          736,
          737,
          738,
          740,
          742,
          748,
          748,
          749,
          754,
          756,
          756,
          780,
          793,
          794,
          800,
          801,
          801,
          801,
          812,
          815,
          817,
          819,
          819,
          822,
          824,
          826,
          826,
          831,
          839,
          843,
          843,
          843,
          844,
          845,
          846,
          849,
          850,
          850,
          853,
          854,
          855,
          856,
          863,
          863,
          863,
          870,
          874,
          874,
          874,
          881,
          886,
          888,
          889,
          893,
          895,
          896,
          897,
          898,
          898,
          899,
          899,
          900,
          900,
          900,
          907,
          907,
          912,
          913,
          913,
          920,
          924,
          929,
          929,
          929,
          930,
          930,
          930,
          931,
          931,
          936,
          937,
          942,
          942,
          942,
          946,
          946,
          946,
          947,
          950,
          953,
          956,
          957,
          957,
          958,
          960,
          962,
          964,
          965,
          965,
          972,
          974,
          976,
          977,
          978,
          979,
          983,
          983,
          984,
          987,
          987,
          992,
          995,
          999,
          1000,
          1000,
          1000,
          1000,
          1000,
          1000,
          1000,
          1001,
          1009,
          1013,
          1020,
          1021,
          1023,
          1036,
          1037,
          1039,
          1044,
          1044,
          1046,
          1050,
          1054,
          1065,
          1082,
          1084,
          1085,
          1089,
          1096,
          1099,
          1100,
          1105,
          1109,
          1111,
          1112,
          1115,
          1121,
          1123,
          1123,
          1128,
          1131,
          1143,
          1146,
          1150,
          1154,
          1154,
          1177,
          1178,
          1189,
          1197,
          1198,
          1198,
          1198,
          1198,
          1198,
          1199,
          1200,
          1200,
          1200,
          1200,
          1202,
          1204,
          1206,
          1210,
          1212,
          1216,
          1216,
          1221,
          1221,
          1225,
          1226,
          1231,
          1233,
          1234,
          1234,
          1234,
          1234,
          1234,
          1241,
          1245,
          1250,
          1254,
          1255,
          1256,
          1256,
          1257,
          1257,
          1260,
          1264,
          1274,
          1275,
          1276,
          1280,
          1280,
          1283,
          1283,
          1286,
          1286,
          1293,
          1295,
          1296,
          1296,
          1296,
          1298,
          1300,
          1300,
          1300,
          1301,
          1312,
          1313,
          1320,
          1332,
          1334,
          1336,
          1336,
          1337,
          1337,
          1337,
          1337,
          1337,
          1337,
          1337,
          1337,
          1337,
          1338,
          1342,
          1348,
          1349,
          1350,
          1350,
          1350,
          1353,
          1356,
          1364,
          1372,
          1372,
          1385,
          1385,
          1387,
          1389,
          1389,
          1394,
          1396,
          1396,
          1399,
          1399,
          1403,
          1404,
          1411,
          1412,
          1414,
          1422,
          1423,
          1428,
          1428,
          1432,
          1432,
          1437,
          1440,
          1445,
          1450,
          1452,
          1452,
          1467,
          1469,
          1473,
          1479,
          1481,
          1485,
          1486,
          1487,
          1495,
          1496,
          1498,
          1499,
          1499,
          1499,
          1499,
          1500,
          1500,
          1500,
          1500,
          1500,
          1500,
          1506,
          1514,
          1517,
          1527,
          1528,
          1529,
          1530,
          1530,
          1541,
          1546,
          1546,
          1548,
          1548,
          1562,
          1563,
          1563,
          1567,
          1567,
          1569,
          1570,
          1573,
          1575,
          1577,
          1581,
          1582,
          1589,
          1598,
          1599,
          1600,
          1600,
          1601,
          1613,
          1616,
          1622,
          1628,
          1629,
          1631,
          1632,
          1633,
          1647,
          1649,
          1649,
          1656,
          1669,
          1676,
          1681,
          1696,
          1696,
          1697,
          1699,
          1700,
          1700,
          1706,
          1710,
          1723,
          1724,
          1724,
          1728,
          1728,
          1728,
          1729,
          1729,
          1729,
          1733,
          1734,
          1738,
          1738,
          1746,
          1749,
          1752,
          1754,
          1756,
          1758,
          1760,
          1765,
          1769,
          1771,
          1775,
          1776,
          1777,
          1780,
          1782,
          1785,
          1785,
          1796,
          1798,
          1799,
          1800,
          1800,
          1800,
          1800,
          1800,
          1800,
          1800,
          1800,
          1821,
          1826,
          1826,
          1833,
          1836,
          1836,
          1836,
          1836,
          1837,
          1845,
          1847,
          1848,
          1850,
          1856,
          1860,
          1867,
          1870,
          1871,
          1879,
          1879,
          1880,
          1880,
          1887,
          1889,
          1890,
          1890,
          1892,
          1899,
          1903,
          1906,
          1906,
          1908,
          1910,
          1919,
          1920,
          1927,
          1931,
          1931,
          1932,
          1937,
          1944,
          1962,
          1964,
          1975,
          1980,
          1982,
          1983,
          1985,
          1985,
          1989,
          1993,
          1994,
          1997,
          1998,
          2000,
          2000,
          2000,
          2000,
          2000,
          2000,
          2000,
          2000,
          2010,
          2011,
          2011,
          2011,
          2012,
          2012,
          2013,
          2013,
          2014,
          2016,
          2020,
          2020,
          2020,
          2032,
          2036,
          2038,
          2041,
          2042,
          2045,
          2049,
          2052,
          2054,
          2056,
          2057,
          2059,
          2060,
          2069,
          2072,
          2075,
          2079,
          2081,
          2081,
          2087,
          2097,
          2104,
          2111,
          2112,
          2119,
          2127,
          2128,
          2133,
          2135,
          2135,
          2137,
          2147,
          2147,
          2150,
          2153,
          2153,
          2159,
          2159,
          2164,
          2164,
          2165,
          2165,
          2168,
          2168,
          2175,
          2176,
          2177,
          2178,
          2189,
          2190,
          2225,
          2233,
          2243,
          2245,
          2248,
          2249,
          2253,
          2258,
          2262,
          2268,
          2268,
          2279,
          2284,
          2292,
          2299,
          2299,
          2299,
          2301,
          2314,
          2317,
          2323,
          2328,
          2333,
          2338,
          2340,
          2345,
          2345,
          2345,
          2353,
          2354,
          2359,
          2362,
          2365,
          2369,
          2374,
          2374,
          2383,
          2401,
          2421,
          2423,
          2427,
          2432,
          2445,
          2445,
          2447,
          2447,
          2448,
          2450,
          2451,
          2456,
          2458,
          2463,
          2466,
          2467,
          2472,
          2473,
          2483,
          2486,
          2494,
          2495,
          2497,
          2499,
          2500,
          2500,
          2500,
          2500,
          2527,
          2533,
          2537,
          2540,
          2541,
          2542,
          2544,
          2546,
          2547,
          2547,
          2549,
          2553,
          2562,
          2562,
          2567,
          2568,
          2568,
          2586,
          2596,
          2599,
          2600,
          2600,
          2600,
          2609,
          2636,
          2647,
          2672,
          2673,
          2690,
          2693,
          2710,
          2727,
          2732,
          2750,
          2760,
          2766,
          2804,
          2805,
          2816,
          2819,
          2826,
          2843,
          2843,
          2856,
          2856,
          2859,
          2861,
          2863,
          2865,
          2873,
          2874,
          2874,
          2880,
          2899,
          2989,
          2993,
          3000,
          3000,
          3000,
          3000,
          3003,
          3009,
          3010,
          3011,
          3014,
          3024,
          3050,
          3067,
          3098,
          3114,
          3122,
          3147,
          3149,
          3159,
          3200,
          3208,
          3209,
          3221,
          3225,
          3257,
          3269,
          3278,
          3281,
          3294,
          3316,
          3332,
          3333,
          3360,
          3375,
          3421,
          3425,
          3447,
          3452,
          3455,
          3456,
          3459,
          3467,
          3472,
          3485,
          3485,
          3487,
          3492,
          3550,
          3568,
          3575,
          3576,
          3577,
          3578,
          3584,
          3585,
          3600,
          3637,
          3652,
          3678,
          3689,
          3733,
          3765,
          3768,
          3780,
          3782,
          3825,
          3843,
          3846,
          3860,
          3872,
          3873,
          3879,
          3895,
          3961,
          3972,
          3976,
          3999,
          4000,
          4050,
          4051,
          4064,
          4096,
          4120,
          4132,
          4132,
          4150,
          4158,
          4200,
          4209,
          4218,
          4251,
          4269,
          4273,
          4275,
          4287,
          4297,
          4319,
          4320,
          4531,
          4566,
          4567,
          4567,
          4568,
          4573,
          4586,
          4675,
          4682,
          4689,
          4747,
          4764,
          4824,
          4869,
          4952,
          4968,
          5000,
          5000,
          5000,
          5000,
          5005,
          5006,
          5027,
          5032,
          5040,
          5048,
          5259,
          5312,
          5328,
          5352,
          5489,
          5629,
          5672,
          5687,
          5880,
          5892,
          5895,
          5898,
          5964,
          5971,
          6083,
          6100,
          6382,
          6432,
          6458,
          6487,
          6553,
          6563,
          6589,
          6594,
          6711,
          6744,
          6754,
          7075,
          7145,
          7693,
          7965,
          8000,
          8211,
          8400,
          8569,
          9000,
          9901,
          9999,
          9999,
          9999,
          9999,
          9999,
          9999,
          9999,
          9999,
          9999,
          10000,
          10000,
          10000,
          10000,
          10000,
          10000,
          10000,
          10000,
          10000,
          10000,
          10000,
          10001,
          10001,
          10368,
          10467,
          11000,
          11987,
          12240,
          12344,
          14137,
          14237,
          18375,
          21000,
          31337
         ],
         "xaxis": "x",
         "yaxis": "y"
        }
       ],
       "layout": {
        "barmode": "relative",
        "legend": {
         "tracegroupgap": 0
        },
        "margin": {
         "t": 60
        },
        "template": {
         "data": {
          "bar": [
           {
            "error_x": {
             "color": "rgb(36,36,36)"
            },
            "error_y": {
             "color": "rgb(36,36,36)"
            },
            "marker": {
             "line": {
              "color": "white",
              "width": 0.5
             }
            },
            "type": "bar"
           }
          ],
          "barpolar": [
           {
            "marker": {
             "line": {
              "color": "white",
              "width": 0.5
             }
            },
            "type": "barpolar"
           }
          ],
          "carpet": [
           {
            "aaxis": {
             "endlinecolor": "rgb(36,36,36)",
             "gridcolor": "white",
             "linecolor": "white",
             "minorgridcolor": "white",
             "startlinecolor": "rgb(36,36,36)"
            },
            "baxis": {
             "endlinecolor": "rgb(36,36,36)",
             "gridcolor": "white",
             "linecolor": "white",
             "minorgridcolor": "white",
             "startlinecolor": "rgb(36,36,36)"
            },
            "type": "carpet"
           }
          ],
          "choropleth": [
           {
            "colorbar": {
             "outlinewidth": 1,
             "tickcolor": "rgb(36,36,36)",
             "ticks": "outside"
            },
            "type": "choropleth"
           }
          ],
          "contour": [
           {
            "colorbar": {
             "outlinewidth": 1,
             "tickcolor": "rgb(36,36,36)",
             "ticks": "outside"
            },
            "colorscale": [
             [
              0,
              "#440154"
             ],
             [
              0.1111111111111111,
              "#482878"
             ],
             [
              0.2222222222222222,
              "#3e4989"
             ],
             [
              0.3333333333333333,
              "#31688e"
             ],
             [
              0.4444444444444444,
              "#26828e"
             ],
             [
              0.5555555555555556,
              "#1f9e89"
             ],
             [
              0.6666666666666666,
              "#35b779"
             ],
             [
              0.7777777777777778,
              "#6ece58"
             ],
             [
              0.8888888888888888,
              "#b5de2b"
             ],
             [
              1,
              "#fde725"
             ]
            ],
            "type": "contour"
           }
          ],
          "contourcarpet": [
           {
            "colorbar": {
             "outlinewidth": 1,
             "tickcolor": "rgb(36,36,36)",
             "ticks": "outside"
            },
            "type": "contourcarpet"
           }
          ],
          "heatmap": [
           {
            "colorbar": {
             "outlinewidth": 1,
             "tickcolor": "rgb(36,36,36)",
             "ticks": "outside"
            },
            "colorscale": [
             [
              0,
              "#440154"
             ],
             [
              0.1111111111111111,
              "#482878"
             ],
             [
              0.2222222222222222,
              "#3e4989"
             ],
             [
              0.3333333333333333,
              "#31688e"
             ],
             [
              0.4444444444444444,
              "#26828e"
             ],
             [
              0.5555555555555556,
              "#1f9e89"
             ],
             [
              0.6666666666666666,
              "#35b779"
             ],
             [
              0.7777777777777778,
              "#6ece58"
             ],
             [
              0.8888888888888888,
              "#b5de2b"
             ],
             [
              1,
              "#fde725"
             ]
            ],
            "type": "heatmap"
           }
          ],
          "heatmapgl": [
           {
            "colorbar": {
             "outlinewidth": 1,
             "tickcolor": "rgb(36,36,36)",
             "ticks": "outside"
            },
            "colorscale": [
             [
              0,
              "#440154"
             ],
             [
              0.1111111111111111,
              "#482878"
             ],
             [
              0.2222222222222222,
              "#3e4989"
             ],
             [
              0.3333333333333333,
              "#31688e"
             ],
             [
              0.4444444444444444,
              "#26828e"
             ],
             [
              0.5555555555555556,
              "#1f9e89"
             ],
             [
              0.6666666666666666,
              "#35b779"
             ],
             [
              0.7777777777777778,
              "#6ece58"
             ],
             [
              0.8888888888888888,
              "#b5de2b"
             ],
             [
              1,
              "#fde725"
             ]
            ],
            "type": "heatmapgl"
           }
          ],
          "histogram": [
           {
            "marker": {
             "line": {
              "color": "white",
              "width": 0.6
             }
            },
            "type": "histogram"
           }
          ],
          "histogram2d": [
           {
            "colorbar": {
             "outlinewidth": 1,
             "tickcolor": "rgb(36,36,36)",
             "ticks": "outside"
            },
            "colorscale": [
             [
              0,
              "#440154"
             ],
             [
              0.1111111111111111,
              "#482878"
             ],
             [
              0.2222222222222222,
              "#3e4989"
             ],
             [
              0.3333333333333333,
              "#31688e"
             ],
             [
              0.4444444444444444,
              "#26828e"
             ],
             [
              0.5555555555555556,
              "#1f9e89"
             ],
             [
              0.6666666666666666,
              "#35b779"
             ],
             [
              0.7777777777777778,
              "#6ece58"
             ],
             [
              0.8888888888888888,
              "#b5de2b"
             ],
             [
              1,
              "#fde725"
             ]
            ],
            "type": "histogram2d"
           }
          ],
          "histogram2dcontour": [
           {
            "colorbar": {
             "outlinewidth": 1,
             "tickcolor": "rgb(36,36,36)",
             "ticks": "outside"
            },
            "colorscale": [
             [
              0,
              "#440154"
             ],
             [
              0.1111111111111111,
              "#482878"
             ],
             [
              0.2222222222222222,
              "#3e4989"
             ],
             [
              0.3333333333333333,
              "#31688e"
             ],
             [
              0.4444444444444444,
              "#26828e"
             ],
             [
              0.5555555555555556,
              "#1f9e89"
             ],
             [
              0.6666666666666666,
              "#35b779"
             ],
             [
              0.7777777777777778,
              "#6ece58"
             ],
             [
              0.8888888888888888,
              "#b5de2b"
             ],
             [
              1,
              "#fde725"
             ]
            ],
            "type": "histogram2dcontour"
           }
          ],
          "mesh3d": [
           {
            "colorbar": {
             "outlinewidth": 1,
             "tickcolor": "rgb(36,36,36)",
             "ticks": "outside"
            },
            "type": "mesh3d"
           }
          ],
          "parcoords": [
           {
            "line": {
             "colorbar": {
              "outlinewidth": 1,
              "tickcolor": "rgb(36,36,36)",
              "ticks": "outside"
             }
            },
            "type": "parcoords"
           }
          ],
          "pie": [
           {
            "automargin": true,
            "type": "pie"
           }
          ],
          "scatter": [
           {
            "marker": {
             "colorbar": {
              "outlinewidth": 1,
              "tickcolor": "rgb(36,36,36)",
              "ticks": "outside"
             }
            },
            "type": "scatter"
           }
          ],
          "scatter3d": [
           {
            "line": {
             "colorbar": {
              "outlinewidth": 1,
              "tickcolor": "rgb(36,36,36)",
              "ticks": "outside"
             }
            },
            "marker": {
             "colorbar": {
              "outlinewidth": 1,
              "tickcolor": "rgb(36,36,36)",
              "ticks": "outside"
             }
            },
            "type": "scatter3d"
           }
          ],
          "scattercarpet": [
           {
            "marker": {
             "colorbar": {
              "outlinewidth": 1,
              "tickcolor": "rgb(36,36,36)",
              "ticks": "outside"
             }
            },
            "type": "scattercarpet"
           }
          ],
          "scattergeo": [
           {
            "marker": {
             "colorbar": {
              "outlinewidth": 1,
              "tickcolor": "rgb(36,36,36)",
              "ticks": "outside"
             }
            },
            "type": "scattergeo"
           }
          ],
          "scattergl": [
           {
            "marker": {
             "colorbar": {
              "outlinewidth": 1,
              "tickcolor": "rgb(36,36,36)",
              "ticks": "outside"
             }
            },
            "type": "scattergl"
           }
          ],
          "scattermapbox": [
           {
            "marker": {
             "colorbar": {
              "outlinewidth": 1,
              "tickcolor": "rgb(36,36,36)",
              "ticks": "outside"
             }
            },
            "type": "scattermapbox"
           }
          ],
          "scatterpolar": [
           {
            "marker": {
             "colorbar": {
              "outlinewidth": 1,
              "tickcolor": "rgb(36,36,36)",
              "ticks": "outside"
             }
            },
            "type": "scatterpolar"
           }
          ],
          "scatterpolargl": [
           {
            "marker": {
             "colorbar": {
              "outlinewidth": 1,
              "tickcolor": "rgb(36,36,36)",
              "ticks": "outside"
             }
            },
            "type": "scatterpolargl"
           }
          ],
          "scatterternary": [
           {
            "marker": {
             "colorbar": {
              "outlinewidth": 1,
              "tickcolor": "rgb(36,36,36)",
              "ticks": "outside"
             }
            },
            "type": "scatterternary"
           }
          ],
          "surface": [
           {
            "colorbar": {
             "outlinewidth": 1,
             "tickcolor": "rgb(36,36,36)",
             "ticks": "outside"
            },
            "colorscale": [
             [
              0,
              "#440154"
             ],
             [
              0.1111111111111111,
              "#482878"
             ],
             [
              0.2222222222222222,
              "#3e4989"
             ],
             [
              0.3333333333333333,
              "#31688e"
             ],
             [
              0.4444444444444444,
              "#26828e"
             ],
             [
              0.5555555555555556,
              "#1f9e89"
             ],
             [
              0.6666666666666666,
              "#35b779"
             ],
             [
              0.7777777777777778,
              "#6ece58"
             ],
             [
              0.8888888888888888,
              "#b5de2b"
             ],
             [
              1,
              "#fde725"
             ]
            ],
            "type": "surface"
           }
          ],
          "table": [
           {
            "cells": {
             "fill": {
              "color": "rgb(237,237,237)"
             },
             "line": {
              "color": "white"
             }
            },
            "header": {
             "fill": {
              "color": "rgb(217,217,217)"
             },
             "line": {
              "color": "white"
             }
            },
            "type": "table"
           }
          ]
         },
         "layout": {
          "annotationdefaults": {
           "arrowhead": 0,
           "arrowwidth": 1
          },
          "coloraxis": {
           "colorbar": {
            "outlinewidth": 1,
            "tickcolor": "rgb(36,36,36)",
            "ticks": "outside"
           }
          },
          "colorscale": {
           "diverging": [
            [
             0,
             "rgb(103,0,31)"
            ],
            [
             0.1,
             "rgb(178,24,43)"
            ],
            [
             0.2,
             "rgb(214,96,77)"
            ],
            [
             0.3,
             "rgb(244,165,130)"
            ],
            [
             0.4,
             "rgb(253,219,199)"
            ],
            [
             0.5,
             "rgb(247,247,247)"
            ],
            [
             0.6,
             "rgb(209,229,240)"
            ],
            [
             0.7,
             "rgb(146,197,222)"
            ],
            [
             0.8,
             "rgb(67,147,195)"
            ],
            [
             0.9,
             "rgb(33,102,172)"
            ],
            [
             1,
             "rgb(5,48,97)"
            ]
           ],
           "sequential": [
            [
             0,
             "#440154"
            ],
            [
             0.1111111111111111,
             "#482878"
            ],
            [
             0.2222222222222222,
             "#3e4989"
            ],
            [
             0.3333333333333333,
             "#31688e"
            ],
            [
             0.4444444444444444,
             "#26828e"
            ],
            [
             0.5555555555555556,
             "#1f9e89"
            ],
            [
             0.6666666666666666,
             "#35b779"
            ],
            [
             0.7777777777777778,
             "#6ece58"
            ],
            [
             0.8888888888888888,
             "#b5de2b"
            ],
            [
             1,
             "#fde725"
            ]
           ],
           "sequentialminus": [
            [
             0,
             "#440154"
            ],
            [
             0.1111111111111111,
             "#482878"
            ],
            [
             0.2222222222222222,
             "#3e4989"
            ],
            [
             0.3333333333333333,
             "#31688e"
            ],
            [
             0.4444444444444444,
             "#26828e"
            ],
            [
             0.5555555555555556,
             "#1f9e89"
            ],
            [
             0.6666666666666666,
             "#35b779"
            ],
            [
             0.7777777777777778,
             "#6ece58"
            ],
            [
             0.8888888888888888,
             "#b5de2b"
            ],
            [
             1,
             "#fde725"
            ]
           ]
          },
          "colorway": [
           "#1F77B4",
           "#FF7F0E",
           "#2CA02C",
           "#D62728",
           "#9467BD",
           "#8C564B",
           "#E377C2",
           "#7F7F7F",
           "#BCBD22",
           "#17BECF"
          ],
          "font": {
           "color": "rgb(36,36,36)"
          },
          "geo": {
           "bgcolor": "white",
           "lakecolor": "white",
           "landcolor": "white",
           "showlakes": true,
           "showland": true,
           "subunitcolor": "white"
          },
          "hoverlabel": {
           "align": "left"
          },
          "hovermode": "closest",
          "mapbox": {
           "style": "light"
          },
          "paper_bgcolor": "white",
          "plot_bgcolor": "white",
          "polar": {
           "angularaxis": {
            "gridcolor": "rgb(232,232,232)",
            "linecolor": "rgb(36,36,36)",
            "showgrid": false,
            "showline": true,
            "ticks": "outside"
           },
           "bgcolor": "white",
           "radialaxis": {
            "gridcolor": "rgb(232,232,232)",
            "linecolor": "rgb(36,36,36)",
            "showgrid": false,
            "showline": true,
            "ticks": "outside"
           }
          },
          "scene": {
           "xaxis": {
            "backgroundcolor": "white",
            "gridcolor": "rgb(232,232,232)",
            "gridwidth": 2,
            "linecolor": "rgb(36,36,36)",
            "showbackground": true,
            "showgrid": false,
            "showline": true,
            "ticks": "outside",
            "zeroline": false,
            "zerolinecolor": "rgb(36,36,36)"
           },
           "yaxis": {
            "backgroundcolor": "white",
            "gridcolor": "rgb(232,232,232)",
            "gridwidth": 2,
            "linecolor": "rgb(36,36,36)",
            "showbackground": true,
            "showgrid": false,
            "showline": true,
            "ticks": "outside",
            "zeroline": false,
            "zerolinecolor": "rgb(36,36,36)"
           },
           "zaxis": {
            "backgroundcolor": "white",
            "gridcolor": "rgb(232,232,232)",
            "gridwidth": 2,
            "linecolor": "rgb(36,36,36)",
            "showbackground": true,
            "showgrid": false,
            "showline": true,
            "ticks": "outside",
            "zeroline": false,
            "zerolinecolor": "rgb(36,36,36)"
           }
          },
          "shapedefaults": {
           "fillcolor": "black",
           "line": {
            "width": 0
           },
           "opacity": 0.3
          },
          "ternary": {
           "aaxis": {
            "gridcolor": "rgb(232,232,232)",
            "linecolor": "rgb(36,36,36)",
            "showgrid": false,
            "showline": true,
            "ticks": "outside"
           },
           "baxis": {
            "gridcolor": "rgb(232,232,232)",
            "linecolor": "rgb(36,36,36)",
            "showgrid": false,
            "showline": true,
            "ticks": "outside"
           },
           "bgcolor": "white",
           "caxis": {
            "gridcolor": "rgb(232,232,232)",
            "linecolor": "rgb(36,36,36)",
            "showgrid": false,
            "showline": true,
            "ticks": "outside"
           }
          },
          "title": {
           "x": 0.05
          },
          "xaxis": {
           "automargin": true,
           "gridcolor": "rgb(232,232,232)",
           "linecolor": "rgb(36,36,36)",
           "showgrid": false,
           "showline": true,
           "ticks": "outside",
           "title": {
            "standoff": 15
           },
           "zeroline": false,
           "zerolinecolor": "rgb(36,36,36)"
          },
          "yaxis": {
           "automargin": true,
           "gridcolor": "rgb(232,232,232)",
           "linecolor": "rgb(36,36,36)",
           "showgrid": false,
           "showline": true,
           "ticks": "outside",
           "title": {
            "standoff": 15
           },
           "zeroline": false,
           "zerolinecolor": "rgb(36,36,36)"
          }
         }
        },
        "xaxis": {
         "anchor": "y",
         "domain": [
          0,
          1
         ],
         "dtick": 10000,
         "tick0": 0,
         "title": {
          "text": "Guess at number of beans in jar"
         }
        },
        "yaxis": {
         "anchor": "x",
         "domain": [
          0,
          1
         ],
         "title": {
          "text": "Frequencies"
         }
        }
       }
      }
     },
     "metadata": {}
    }
   ],
   "source": [
    "fig = px.histogram(df, x=\"count\", template=\"simple_white\", nbins=50)\n",
    "\n",
    "fig.update_layout(\n",
    "    xaxis=dict(\n",
    "        title=\"Guess at number of beans in jar\",\n",
    "        tick0=0,\n",
    "        dtick=1e4\n",
    "    ),\n",
    "    yaxis_title=\"Frequencies\"\n",
    ")\n",
    "\n",
    "fig.update_traces(marker_color=\"grey\")\n",
    "\n",
    "fig"
   ]
  },
  {
   "cell_type": "code",
   "execution_count": 185,
   "metadata": {
    "tags": []
   },
   "outputs": [
    {
     "output_type": "display_data",
     "data": {
      "text/plain": "<Figure size 864x432 with 1 Axes>",
      "image/svg+xml": "<?xml version=\"1.0\" encoding=\"utf-8\" standalone=\"no\"?>\r\n<!DOCTYPE svg PUBLIC \"-//W3C//DTD SVG 1.1//EN\"\r\n  \"http://www.w3.org/Graphics/SVG/1.1/DTD/svg11.dtd\">\r\n<!-- Created with matplotlib (https://matplotlib.org/) -->\r\n<svg height=\"370.91625pt\" version=\"1.1\" viewBox=\"0 0 717.403125 370.91625\" width=\"717.403125pt\" xmlns=\"http://www.w3.org/2000/svg\" xmlns:xlink=\"http://www.w3.org/1999/xlink\">\r\n <defs>\r\n  <style type=\"text/css\">\r\n*{stroke-linecap:butt;stroke-linejoin:round;}\r\n  </style>\r\n </defs>\r\n <g id=\"figure_1\">\r\n  <g id=\"patch_1\">\r\n   <path d=\"M 0 370.91625 \r\nL 717.403125 370.91625 \r\nL 717.403125 0 \r\nL 0 0 \r\nz\r\n\" style=\"fill:none;\"/>\r\n  </g>\r\n  <g id=\"axes_1\">\r\n   <g id=\"patch_2\">\r\n    <path d=\"M 40.603125 333.36 \r\nL 710.203125 333.36 \r\nL 710.203125 7.2 \r\nL 40.603125 7.2 \r\nz\r\n\" style=\"fill:#ffffff;\"/>\r\n   </g>\r\n   <g id=\"patch_3\">\r\n    <path clip-path=\"url(#pc0fff75a8e)\" d=\"M 71.039489 333.36 \r\nL 83.462494 333.36 \r\nL 83.462494 328.858137 \r\nL 71.039489 328.858137 \r\nz\r\n\" style=\"fill:#808080;stroke:#ffffff;stroke-linejoin:miter;\"/>\r\n   </g>\r\n   <g id=\"patch_4\">\r\n    <path clip-path=\"url(#pc0fff75a8e)\" d=\"M 83.462494 333.36 \r\nL 95.8855 333.36 \r\nL 95.8855 328.858137 \r\nL 83.462494 328.858137 \r\nz\r\n\" style=\"fill:#808080;stroke:#ffffff;stroke-linejoin:miter;\"/>\r\n   </g>\r\n   <g id=\"patch_5\">\r\n    <path clip-path=\"url(#pc0fff75a8e)\" d=\"M 95.8855 333.36 \r\nL 108.308505 333.36 \r\nL 108.308505 324.356273 \r\nL 95.8855 324.356273 \r\nz\r\n\" style=\"fill:#808080;stroke:#ffffff;stroke-linejoin:miter;\"/>\r\n   </g>\r\n   <g id=\"patch_6\">\r\n    <path clip-path=\"url(#pc0fff75a8e)\" d=\"M 108.308505 333.36 \r\nL 120.731511 333.36 \r\nL 120.731511 319.85441 \r\nL 108.308505 319.85441 \r\nz\r\n\" style=\"fill:#808080;stroke:#ffffff;stroke-linejoin:miter;\"/>\r\n   </g>\r\n   <g id=\"patch_7\">\r\n    <path clip-path=\"url(#pc0fff75a8e)\" d=\"M 120.731511 333.36 \r\nL 133.154516 333.36 \r\nL 133.154516 328.858137 \r\nL 120.731511 328.858137 \r\nz\r\n\" style=\"fill:#808080;stroke:#ffffff;stroke-linejoin:miter;\"/>\r\n   </g>\r\n   <g id=\"patch_8\">\r\n    <path clip-path=\"url(#pc0fff75a8e)\" d=\"M 133.154516 333.36 \r\nL 145.577522 333.36 \r\nL 145.577522 328.858137 \r\nL 133.154516 328.858137 \r\nz\r\n\" style=\"fill:#808080;stroke:#ffffff;stroke-linejoin:miter;\"/>\r\n   </g>\r\n   <g id=\"patch_9\">\r\n    <path clip-path=\"url(#pc0fff75a8e)\" d=\"M 145.577522 333.36 \r\nL 158.000528 333.36 \r\nL 158.000528 328.858137 \r\nL 145.577522 328.858137 \r\nz\r\n\" style=\"fill:#808080;stroke:#ffffff;stroke-linejoin:miter;\"/>\r\n   </g>\r\n   <g id=\"patch_10\">\r\n    <path clip-path=\"url(#pc0fff75a8e)\" d=\"M 158.000528 333.36 \r\nL 170.423533 333.36 \r\nL 170.423533 297.345093 \r\nL 158.000528 297.345093 \r\nz\r\n\" style=\"fill:#808080;stroke:#ffffff;stroke-linejoin:miter;\"/>\r\n   </g>\r\n   <g id=\"patch_11\">\r\n    <path clip-path=\"url(#pc0fff75a8e)\" d=\"M 170.423533 333.36 \r\nL 182.846539 333.36 \r\nL 182.846539 288.341366 \r\nL 170.423533 288.341366 \r\nz\r\n\" style=\"fill:#808080;stroke:#ffffff;stroke-linejoin:miter;\"/>\r\n   </g>\r\n   <g id=\"patch_12\">\r\n    <path clip-path=\"url(#pc0fff75a8e)\" d=\"M 182.846539 333.36 \r\nL 195.269544 333.36 \r\nL 195.269544 292.84323 \r\nL 182.846539 292.84323 \r\nz\r\n\" style=\"fill:#808080;stroke:#ffffff;stroke-linejoin:miter;\"/>\r\n   </g>\r\n   <g id=\"patch_13\">\r\n    <path clip-path=\"url(#pc0fff75a8e)\" d=\"M 195.269544 333.36 \r\nL 207.69255 333.36 \r\nL 207.69255 274.835776 \r\nL 195.269544 274.835776 \r\nz\r\n\" style=\"fill:#808080;stroke:#ffffff;stroke-linejoin:miter;\"/>\r\n   </g>\r\n   <g id=\"patch_14\">\r\n    <path clip-path=\"url(#pc0fff75a8e)\" d=\"M 207.69255 333.36 \r\nL 220.115555 333.36 \r\nL 220.115555 238.82087 \r\nL 207.69255 238.82087 \r\nz\r\n\" style=\"fill:#808080;stroke:#ffffff;stroke-linejoin:miter;\"/>\r\n   </g>\r\n   <g id=\"patch_15\">\r\n    <path clip-path=\"url(#pc0fff75a8e)\" d=\"M 220.115555 333.36 \r\nL 232.538561 333.36 \r\nL 232.538561 229.817143 \r\nL 220.115555 229.817143 \r\nz\r\n\" style=\"fill:#808080;stroke:#ffffff;stroke-linejoin:miter;\"/>\r\n   </g>\r\n   <g id=\"patch_16\">\r\n    <path clip-path=\"url(#pc0fff75a8e)\" d=\"M 232.538561 333.36 \r\nL 244.961567 333.36 \r\nL 244.961567 247.824596 \r\nL 232.538561 247.824596 \r\nz\r\n\" style=\"fill:#808080;stroke:#ffffff;stroke-linejoin:miter;\"/>\r\n   </g>\r\n   <g id=\"patch_17\">\r\n    <path clip-path=\"url(#pc0fff75a8e)\" d=\"M 244.961567 333.36 \r\nL 257.384572 333.36 \r\nL 257.384572 139.779876 \r\nL 244.961567 139.779876 \r\nz\r\n\" style=\"fill:#808080;stroke:#ffffff;stroke-linejoin:miter;\"/>\r\n   </g>\r\n   <g id=\"patch_18\">\r\n    <path clip-path=\"url(#pc0fff75a8e)\" d=\"M 257.384572 333.36 \r\nL 269.807578 333.36 \r\nL 269.807578 85.757516 \r\nL 257.384572 85.757516 \r\nz\r\n\" style=\"fill:#808080;stroke:#ffffff;stroke-linejoin:miter;\"/>\r\n   </g>\r\n   <g id=\"patch_19\">\r\n    <path clip-path=\"url(#pc0fff75a8e)\" d=\"M 269.807578 333.36 \r\nL 282.230583 333.36 \r\nL 282.230583 216.311553 \r\nL 269.807578 216.311553 \r\nz\r\n\" style=\"fill:#808080;stroke:#ffffff;stroke-linejoin:miter;\"/>\r\n   </g>\r\n   <g id=\"patch_20\">\r\n    <path clip-path=\"url(#pc0fff75a8e)\" d=\"M 282.230583 333.36 \r\nL 294.653589 333.36 \r\nL 294.653589 121.772422 \r\nL 282.230583 121.772422 \r\nz\r\n\" style=\"fill:#808080;stroke:#ffffff;stroke-linejoin:miter;\"/>\r\n   </g>\r\n   <g id=\"patch_21\">\r\n    <path clip-path=\"url(#pc0fff75a8e)\" d=\"M 294.653589 333.36 \r\nL 307.076594 333.36 \r\nL 307.076594 90.259379 \r\nL 294.653589 90.259379 \r\nz\r\n\" style=\"fill:#808080;stroke:#ffffff;stroke-linejoin:miter;\"/>\r\n   </g>\r\n   <g id=\"patch_22\">\r\n    <path clip-path=\"url(#pc0fff75a8e)\" d=\"M 307.076594 333.36 \r\nL 319.4996 333.36 \r\nL 319.4996 94.761242 \r\nL 307.076594 94.761242 \r\nz\r\n\" style=\"fill:#808080;stroke:#ffffff;stroke-linejoin:miter;\"/>\r\n   </g>\r\n   <g id=\"patch_23\">\r\n    <path clip-path=\"url(#pc0fff75a8e)\" d=\"M 319.4996 333.36 \r\nL 331.922606 333.36 \r\nL 331.922606 139.779876 \r\nL 319.4996 139.779876 \r\nz\r\n\" style=\"fill:#808080;stroke:#ffffff;stroke-linejoin:miter;\"/>\r\n   </g>\r\n   <g id=\"patch_24\">\r\n    <path clip-path=\"url(#pc0fff75a8e)\" d=\"M 331.922606 333.36 \r\nL 344.345611 333.36 \r\nL 344.345611 27.233292 \r\nL 331.922606 27.233292 \r\nz\r\n\" style=\"fill:#808080;stroke:#ffffff;stroke-linejoin:miter;\"/>\r\n   </g>\r\n   <g id=\"patch_25\">\r\n    <path clip-path=\"url(#pc0fff75a8e)\" d=\"M 344.345611 333.36 \r\nL 356.768617 333.36 \r\nL 356.768617 22.731429 \r\nL 344.345611 22.731429 \r\nz\r\n\" style=\"fill:#808080;stroke:#ffffff;stroke-linejoin:miter;\"/>\r\n   </g>\r\n   <g id=\"patch_26\">\r\n    <path clip-path=\"url(#pc0fff75a8e)\" d=\"M 356.768617 333.36 \r\nL 369.191622 333.36 \r\nL 369.191622 108.266832 \r\nL 356.768617 108.266832 \r\nz\r\n\" style=\"fill:#808080;stroke:#ffffff;stroke-linejoin:miter;\"/>\r\n   </g>\r\n   <g id=\"patch_27\">\r\n    <path clip-path=\"url(#pc0fff75a8e)\" d=\"M 369.191622 333.36 \r\nL 381.614628 333.36 \r\nL 381.614628 54.244472 \r\nL 369.191622 54.244472 \r\nz\r\n\" style=\"fill:#808080;stroke:#ffffff;stroke-linejoin:miter;\"/>\r\n   </g>\r\n   <g id=\"patch_28\">\r\n    <path clip-path=\"url(#pc0fff75a8e)\" d=\"M 381.614628 333.36 \r\nL 394.037633 333.36 \r\nL 394.037633 216.311553 \r\nL 381.614628 216.311553 \r\nz\r\n\" style=\"fill:#808080;stroke:#ffffff;stroke-linejoin:miter;\"/>\r\n   </g>\r\n   <g id=\"patch_29\">\r\n    <path clip-path=\"url(#pc0fff75a8e)\" d=\"M 394.037633 333.36 \r\nL 406.460639 333.36 \r\nL 406.460639 193.802236 \r\nL 394.037633 193.802236 \r\nz\r\n\" style=\"fill:#808080;stroke:#ffffff;stroke-linejoin:miter;\"/>\r\n   </g>\r\n   <g id=\"patch_30\">\r\n    <path clip-path=\"url(#pc0fff75a8e)\" d=\"M 406.460639 333.36 \r\nL 418.883644 333.36 \r\nL 418.883644 207.307826 \r\nL 406.460639 207.307826 \r\nz\r\n\" style=\"fill:#808080;stroke:#ffffff;stroke-linejoin:miter;\"/>\r\n   </g>\r\n   <g id=\"patch_31\">\r\n    <path clip-path=\"url(#pc0fff75a8e)\" d=\"M 418.883644 333.36 \r\nL 431.30665 333.36 \r\nL 431.30665 220.813416 \r\nL 418.883644 220.813416 \r\nz\r\n\" style=\"fill:#808080;stroke:#ffffff;stroke-linejoin:miter;\"/>\r\n   </g>\r\n   <g id=\"patch_32\">\r\n    <path clip-path=\"url(#pc0fff75a8e)\" d=\"M 431.30665 333.36 \r\nL 443.729656 333.36 \r\nL 443.729656 225.31528 \r\nL 431.30665 225.31528 \r\nz\r\n\" style=\"fill:#808080;stroke:#ffffff;stroke-linejoin:miter;\"/>\r\n   </g>\r\n   <g id=\"patch_33\">\r\n    <path clip-path=\"url(#pc0fff75a8e)\" d=\"M 443.729656 333.36 \r\nL 456.152661 333.36 \r\nL 456.152661 274.835776 \r\nL 443.729656 274.835776 \r\nz\r\n\" style=\"fill:#808080;stroke:#ffffff;stroke-linejoin:miter;\"/>\r\n   </g>\r\n   <g id=\"patch_34\">\r\n    <path clip-path=\"url(#pc0fff75a8e)\" d=\"M 456.152661 333.36 \r\nL 468.575667 333.36 \r\nL 468.575667 261.330186 \r\nL 456.152661 261.330186 \r\nz\r\n\" style=\"fill:#808080;stroke:#ffffff;stroke-linejoin:miter;\"/>\r\n   </g>\r\n   <g id=\"patch_35\">\r\n    <path clip-path=\"url(#pc0fff75a8e)\" d=\"M 468.575667 333.36 \r\nL 480.998672 333.36 \r\nL 480.998672 301.846957 \r\nL 468.575667 301.846957 \r\nz\r\n\" style=\"fill:#808080;stroke:#ffffff;stroke-linejoin:miter;\"/>\r\n   </g>\r\n   <g id=\"patch_36\">\r\n    <path clip-path=\"url(#pc0fff75a8e)\" d=\"M 480.998672 333.36 \r\nL 493.421678 333.36 \r\nL 493.421678 283.839503 \r\nL 480.998672 283.839503 \r\nz\r\n\" style=\"fill:#808080;stroke:#ffffff;stroke-linejoin:miter;\"/>\r\n   </g>\r\n   <g id=\"patch_37\">\r\n    <path clip-path=\"url(#pc0fff75a8e)\" d=\"M 493.421678 333.36 \r\nL 505.844683 333.36 \r\nL 505.844683 288.341366 \r\nL 493.421678 288.341366 \r\nz\r\n\" style=\"fill:#808080;stroke:#ffffff;stroke-linejoin:miter;\"/>\r\n   </g>\r\n   <g id=\"patch_38\">\r\n    <path clip-path=\"url(#pc0fff75a8e)\" d=\"M 505.844683 333.36 \r\nL 518.267689 333.36 \r\nL 518.267689 328.858137 \r\nL 505.844683 328.858137 \r\nz\r\n\" style=\"fill:#808080;stroke:#ffffff;stroke-linejoin:miter;\"/>\r\n   </g>\r\n   <g id=\"patch_39\">\r\n    <path clip-path=\"url(#pc0fff75a8e)\" d=\"M 518.267689 333.36 \r\nL 530.690695 333.36 \r\nL 530.690695 310.850683 \r\nL 518.267689 310.850683 \r\nz\r\n\" style=\"fill:#808080;stroke:#ffffff;stroke-linejoin:miter;\"/>\r\n   </g>\r\n   <g id=\"patch_40\">\r\n    <path clip-path=\"url(#pc0fff75a8e)\" d=\"M 530.690695 333.36 \r\nL 543.1137 333.36 \r\nL 543.1137 328.858137 \r\nL 530.690695 328.858137 \r\nz\r\n\" style=\"fill:#808080;stroke:#ffffff;stroke-linejoin:miter;\"/>\r\n   </g>\r\n   <g id=\"patch_41\">\r\n    <path clip-path=\"url(#pc0fff75a8e)\" d=\"M 543.1137 333.36 \r\nL 555.536706 333.36 \r\nL 555.536706 220.813416 \r\nL 543.1137 220.813416 \r\nz\r\n\" style=\"fill:#808080;stroke:#ffffff;stroke-linejoin:miter;\"/>\r\n   </g>\r\n   <g id=\"patch_42\">\r\n    <path clip-path=\"url(#pc0fff75a8e)\" d=\"M 555.536706 333.36 \r\nL 567.959711 333.36 \r\nL 567.959711 328.858137 \r\nL 555.536706 328.858137 \r\nz\r\n\" style=\"fill:#808080;stroke:#ffffff;stroke-linejoin:miter;\"/>\r\n   </g>\r\n   <g id=\"patch_43\">\r\n    <path clip-path=\"url(#pc0fff75a8e)\" d=\"M 567.959711 333.36 \r\nL 580.382717 333.36 \r\nL 580.382717 319.85441 \r\nL 567.959711 319.85441 \r\nz\r\n\" style=\"fill:#808080;stroke:#ffffff;stroke-linejoin:miter;\"/>\r\n   </g>\r\n   <g id=\"patch_44\">\r\n    <path clip-path=\"url(#pc0fff75a8e)\" d=\"M 580.382717 333.36 \r\nL 592.805722 333.36 \r\nL 592.805722 324.356273 \r\nL 580.382717 324.356273 \r\nz\r\n\" style=\"fill:#808080;stroke:#ffffff;stroke-linejoin:miter;\"/>\r\n   </g>\r\n   <g id=\"patch_45\">\r\n    <path clip-path=\"url(#pc0fff75a8e)\" d=\"M 592.805722 333.36 \r\nL 605.228728 333.36 \r\nL 605.228728 333.36 \r\nL 592.805722 333.36 \r\nz\r\n\" style=\"fill:#808080;stroke:#ffffff;stroke-linejoin:miter;\"/>\r\n   </g>\r\n   <g id=\"patch_46\">\r\n    <path clip-path=\"url(#pc0fff75a8e)\" d=\"M 605.228728 333.36 \r\nL 617.651734 333.36 \r\nL 617.651734 333.36 \r\nL 605.228728 333.36 \r\nz\r\n\" style=\"fill:#808080;stroke:#ffffff;stroke-linejoin:miter;\"/>\r\n   </g>\r\n   <g id=\"patch_47\">\r\n    <path clip-path=\"url(#pc0fff75a8e)\" d=\"M 617.651734 333.36 \r\nL 630.074739 333.36 \r\nL 630.074739 328.858137 \r\nL 617.651734 328.858137 \r\nz\r\n\" style=\"fill:#808080;stroke:#ffffff;stroke-linejoin:miter;\"/>\r\n   </g>\r\n   <g id=\"patch_48\">\r\n    <path clip-path=\"url(#pc0fff75a8e)\" d=\"M 630.074739 333.36 \r\nL 642.497745 333.36 \r\nL 642.497745 328.858137 \r\nL 630.074739 328.858137 \r\nz\r\n\" style=\"fill:#808080;stroke:#ffffff;stroke-linejoin:miter;\"/>\r\n   </g>\r\n   <g id=\"patch_49\">\r\n    <path clip-path=\"url(#pc0fff75a8e)\" d=\"M 642.497745 333.36 \r\nL 654.92075 333.36 \r\nL 654.92075 333.36 \r\nL 642.497745 333.36 \r\nz\r\n\" style=\"fill:#808080;stroke:#ffffff;stroke-linejoin:miter;\"/>\r\n   </g>\r\n   <g id=\"patch_50\">\r\n    <path clip-path=\"url(#pc0fff75a8e)\" d=\"M 654.92075 333.36 \r\nL 667.343756 333.36 \r\nL 667.343756 333.36 \r\nL 654.92075 333.36 \r\nz\r\n\" style=\"fill:#808080;stroke:#ffffff;stroke-linejoin:miter;\"/>\r\n   </g>\r\n   <g id=\"patch_51\">\r\n    <path clip-path=\"url(#pc0fff75a8e)\" d=\"M 667.343756 333.36 \r\nL 679.766761 333.36 \r\nL 679.766761 333.36 \r\nL 667.343756 333.36 \r\nz\r\n\" style=\"fill:#808080;stroke:#ffffff;stroke-linejoin:miter;\"/>\r\n   </g>\r\n   <g id=\"matplotlib.axis_1\">\r\n    <g id=\"xtick_1\">\r\n     <g id=\"line2d_1\">\r\n      <defs>\r\n       <path d=\"M 0 0 \r\nL 0 3.5 \r\n\" id=\"meabeb4e4e0\" style=\"stroke:#000000;stroke-width:0.8;\"/>\r\n      </defs>\r\n      <g>\r\n       <use style=\"stroke:#000000;stroke-width:0.8;\" x=\"71.039489\" xlink:href=\"#meabeb4e4e0\" y=\"333.36\"/>\r\n      </g>\r\n     </g>\r\n     <g id=\"text_1\">\r\n      <!-- 200 -->\r\n      <defs>\r\n       <path d=\"M 19.1875 8.296875 \r\nL 53.609375 8.296875 \r\nL 53.609375 0 \r\nL 7.328125 0 \r\nL 7.328125 8.296875 \r\nQ 12.9375 14.109375 22.625 23.890625 \r\nQ 32.328125 33.6875 34.8125 36.53125 \r\nQ 39.546875 41.84375 41.421875 45.53125 \r\nQ 43.3125 49.21875 43.3125 52.78125 \r\nQ 43.3125 58.59375 39.234375 62.25 \r\nQ 35.15625 65.921875 28.609375 65.921875 \r\nQ 23.96875 65.921875 18.8125 64.3125 \r\nQ 13.671875 62.703125 7.8125 59.421875 \r\nL 7.8125 69.390625 \r\nQ 13.765625 71.78125 18.9375 73 \r\nQ 24.125 74.21875 28.421875 74.21875 \r\nQ 39.75 74.21875 46.484375 68.546875 \r\nQ 53.21875 62.890625 53.21875 53.421875 \r\nQ 53.21875 48.921875 51.53125 44.890625 \r\nQ 49.859375 40.875 45.40625 35.40625 \r\nQ 44.1875 33.984375 37.640625 27.21875 \r\nQ 31.109375 20.453125 19.1875 8.296875 \r\nz\r\n\" id=\"DejaVuSans-50\"/>\r\n       <path d=\"M 31.78125 66.40625 \r\nQ 24.171875 66.40625 20.328125 58.90625 \r\nQ 16.5 51.421875 16.5 36.375 \r\nQ 16.5 21.390625 20.328125 13.890625 \r\nQ 24.171875 6.390625 31.78125 6.390625 \r\nQ 39.453125 6.390625 43.28125 13.890625 \r\nQ 47.125 21.390625 47.125 36.375 \r\nQ 47.125 51.421875 43.28125 58.90625 \r\nQ 39.453125 66.40625 31.78125 66.40625 \r\nz\r\nM 31.78125 74.21875 \r\nQ 44.046875 74.21875 50.515625 64.515625 \r\nQ 56.984375 54.828125 56.984375 36.375 \r\nQ 56.984375 17.96875 50.515625 8.265625 \r\nQ 44.046875 -1.421875 31.78125 -1.421875 \r\nQ 19.53125 -1.421875 13.0625 8.265625 \r\nQ 6.59375 17.96875 6.59375 36.375 \r\nQ 6.59375 54.828125 13.0625 64.515625 \r\nQ 19.53125 74.21875 31.78125 74.21875 \r\nz\r\n\" id=\"DejaVuSans-48\"/>\r\n      </defs>\r\n      <g transform=\"translate(61.495739 347.958438)scale(0.1 -0.1)\">\r\n       <use xlink:href=\"#DejaVuSans-50\"/>\r\n       <use x=\"63.623047\" xlink:href=\"#DejaVuSans-48\"/>\r\n       <use x=\"127.246094\" xlink:href=\"#DejaVuSans-48\"/>\r\n      </g>\r\n     </g>\r\n    </g>\r\n    <g id=\"xtick_2\">\r\n     <g id=\"line2d_2\">\r\n      <g>\r\n       <use style=\"stroke:#000000;stroke-width:0.8;\" x=\"182.356942\" xlink:href=\"#meabeb4e4e0\" y=\"333.36\"/>\r\n      </g>\r\n     </g>\r\n     <g id=\"text_2\">\r\n      <!-- 500 -->\r\n      <defs>\r\n       <path d=\"M 10.796875 72.90625 \r\nL 49.515625 72.90625 \r\nL 49.515625 64.59375 \r\nL 19.828125 64.59375 \r\nL 19.828125 46.734375 \r\nQ 21.96875 47.46875 24.109375 47.828125 \r\nQ 26.265625 48.1875 28.421875 48.1875 \r\nQ 40.625 48.1875 47.75 41.5 \r\nQ 54.890625 34.8125 54.890625 23.390625 \r\nQ 54.890625 11.625 47.5625 5.09375 \r\nQ 40.234375 -1.421875 26.90625 -1.421875 \r\nQ 22.3125 -1.421875 17.546875 -0.640625 \r\nQ 12.796875 0.140625 7.71875 1.703125 \r\nL 7.71875 11.625 \r\nQ 12.109375 9.234375 16.796875 8.0625 \r\nQ 21.484375 6.890625 26.703125 6.890625 \r\nQ 35.15625 6.890625 40.078125 11.328125 \r\nQ 45.015625 15.765625 45.015625 23.390625 \r\nQ 45.015625 31 40.078125 35.4375 \r\nQ 35.15625 39.890625 26.703125 39.890625 \r\nQ 22.75 39.890625 18.8125 39.015625 \r\nQ 14.890625 38.140625 10.796875 36.28125 \r\nz\r\n\" id=\"DejaVuSans-53\"/>\r\n      </defs>\r\n      <g transform=\"translate(172.813192 347.958438)scale(0.1 -0.1)\">\r\n       <use xlink:href=\"#DejaVuSans-53\"/>\r\n       <use x=\"63.623047\" xlink:href=\"#DejaVuSans-48\"/>\r\n       <use x=\"127.246094\" xlink:href=\"#DejaVuSans-48\"/>\r\n      </g>\r\n     </g>\r\n    </g>\r\n    <g id=\"xtick_3\">\r\n     <g id=\"line2d_3\">\r\n      <g>\r\n       <use style=\"stroke:#000000;stroke-width:0.8;\" x=\"266.565344\" xlink:href=\"#meabeb4e4e0\" y=\"333.36\"/>\r\n      </g>\r\n     </g>\r\n     <g id=\"text_3\">\r\n      <!-- 1000 -->\r\n      <defs>\r\n       <path d=\"M 12.40625 8.296875 \r\nL 28.515625 8.296875 \r\nL 28.515625 63.921875 \r\nL 10.984375 60.40625 \r\nL 10.984375 69.390625 \r\nL 28.421875 72.90625 \r\nL 38.28125 72.90625 \r\nL 38.28125 8.296875 \r\nL 54.390625 8.296875 \r\nL 54.390625 0 \r\nL 12.40625 0 \r\nz\r\n\" id=\"DejaVuSans-49\"/>\r\n      </defs>\r\n      <g transform=\"translate(253.840344 347.958438)scale(0.1 -0.1)\">\r\n       <use xlink:href=\"#DejaVuSans-49\"/>\r\n       <use x=\"63.623047\" xlink:href=\"#DejaVuSans-48\"/>\r\n       <use x=\"127.246094\" xlink:href=\"#DejaVuSans-48\"/>\r\n       <use x=\"190.869141\" xlink:href=\"#DejaVuSans-48\"/>\r\n      </g>\r\n     </g>\r\n    </g>\r\n    <g id=\"xtick_4\">\r\n     <g id=\"line2d_4\">\r\n      <g>\r\n       <use style=\"stroke:#000000;stroke-width:0.8;\" x=\"350.773746\" xlink:href=\"#meabeb4e4e0\" y=\"333.36\"/>\r\n      </g>\r\n     </g>\r\n     <g id=\"text_4\">\r\n      <!-- 2000 -->\r\n      <g transform=\"translate(338.048746 347.958438)scale(0.1 -0.1)\">\r\n       <use xlink:href=\"#DejaVuSans-50\"/>\r\n       <use x=\"63.623047\" xlink:href=\"#DejaVuSans-48\"/>\r\n       <use x=\"127.246094\" xlink:href=\"#DejaVuSans-48\"/>\r\n       <use x=\"190.869141\" xlink:href=\"#DejaVuSans-48\"/>\r\n      </g>\r\n     </g>\r\n    </g>\r\n    <g id=\"xtick_5\">\r\n     <g id=\"line2d_5\">\r\n      <g>\r\n       <use style=\"stroke:#000000;stroke-width:0.8;\" x=\"462.091199\" xlink:href=\"#meabeb4e4e0\" y=\"333.36\"/>\r\n      </g>\r\n     </g>\r\n     <g id=\"text_5\">\r\n      <!-- 5000 -->\r\n      <g transform=\"translate(449.366199 347.958438)scale(0.1 -0.1)\">\r\n       <use xlink:href=\"#DejaVuSans-53\"/>\r\n       <use x=\"63.623047\" xlink:href=\"#DejaVuSans-48\"/>\r\n       <use x=\"127.246094\" xlink:href=\"#DejaVuSans-48\"/>\r\n       <use x=\"190.869141\" xlink:href=\"#DejaVuSans-48\"/>\r\n      </g>\r\n     </g>\r\n    </g>\r\n    <g id=\"xtick_6\">\r\n     <g id=\"line2d_6\">\r\n      <g>\r\n       <use style=\"stroke:#000000;stroke-width:0.8;\" x=\"546.299601\" xlink:href=\"#meabeb4e4e0\" y=\"333.36\"/>\r\n      </g>\r\n     </g>\r\n     <g id=\"text_6\">\r\n      <!-- 10000 -->\r\n      <g transform=\"translate(530.393351 347.958438)scale(0.1 -0.1)\">\r\n       <use xlink:href=\"#DejaVuSans-49\"/>\r\n       <use x=\"63.623047\" xlink:href=\"#DejaVuSans-48\"/>\r\n       <use x=\"127.246094\" xlink:href=\"#DejaVuSans-48\"/>\r\n       <use x=\"190.869141\" xlink:href=\"#DejaVuSans-48\"/>\r\n       <use x=\"254.492188\" xlink:href=\"#DejaVuSans-48\"/>\r\n      </g>\r\n     </g>\r\n    </g>\r\n    <g id=\"xtick_7\">\r\n     <g id=\"line2d_7\">\r\n      <g>\r\n       <use style=\"stroke:#000000;stroke-width:0.8;\" x=\"630.508004\" xlink:href=\"#meabeb4e4e0\" y=\"333.36\"/>\r\n      </g>\r\n     </g>\r\n     <g id=\"text_7\">\r\n      <!-- 20000 -->\r\n      <g transform=\"translate(614.601754 347.958438)scale(0.1 -0.1)\">\r\n       <use xlink:href=\"#DejaVuSans-50\"/>\r\n       <use x=\"63.623047\" xlink:href=\"#DejaVuSans-48\"/>\r\n       <use x=\"127.246094\" xlink:href=\"#DejaVuSans-48\"/>\r\n       <use x=\"190.869141\" xlink:href=\"#DejaVuSans-48\"/>\r\n       <use x=\"254.492188\" xlink:href=\"#DejaVuSans-48\"/>\r\n      </g>\r\n     </g>\r\n    </g>\r\n    <g id=\"xtick_8\">\r\n     <g id=\"line2d_8\">\r\n      <g>\r\n       <use style=\"stroke:#000000;stroke-width:0.8;\" x=\"679.766761\" xlink:href=\"#meabeb4e4e0\" y=\"333.36\"/>\r\n      </g>\r\n     </g>\r\n     <g id=\"text_8\">\r\n      <!-- 30000 -->\r\n      <defs>\r\n       <path d=\"M 40.578125 39.3125 \r\nQ 47.65625 37.796875 51.625 33 \r\nQ 55.609375 28.21875 55.609375 21.1875 \r\nQ 55.609375 10.40625 48.1875 4.484375 \r\nQ 40.765625 -1.421875 27.09375 -1.421875 \r\nQ 22.515625 -1.421875 17.65625 -0.515625 \r\nQ 12.796875 0.390625 7.625 2.203125 \r\nL 7.625 11.71875 \r\nQ 11.71875 9.328125 16.59375 8.109375 \r\nQ 21.484375 6.890625 26.8125 6.890625 \r\nQ 36.078125 6.890625 40.9375 10.546875 \r\nQ 45.796875 14.203125 45.796875 21.1875 \r\nQ 45.796875 27.640625 41.28125 31.265625 \r\nQ 36.765625 34.90625 28.71875 34.90625 \r\nL 20.21875 34.90625 \r\nL 20.21875 43.015625 \r\nL 29.109375 43.015625 \r\nQ 36.375 43.015625 40.234375 45.921875 \r\nQ 44.09375 48.828125 44.09375 54.296875 \r\nQ 44.09375 59.90625 40.109375 62.90625 \r\nQ 36.140625 65.921875 28.71875 65.921875 \r\nQ 24.65625 65.921875 20.015625 65.03125 \r\nQ 15.375 64.15625 9.8125 62.3125 \r\nL 9.8125 71.09375 \r\nQ 15.4375 72.65625 20.34375 73.4375 \r\nQ 25.25 74.21875 29.59375 74.21875 \r\nQ 40.828125 74.21875 47.359375 69.109375 \r\nQ 53.90625 64.015625 53.90625 55.328125 \r\nQ 53.90625 49.265625 50.4375 45.09375 \r\nQ 46.96875 40.921875 40.578125 39.3125 \r\nz\r\n\" id=\"DejaVuSans-51\"/>\r\n      </defs>\r\n      <g transform=\"translate(663.860511 347.958438)scale(0.1 -0.1)\">\r\n       <use xlink:href=\"#DejaVuSans-51\"/>\r\n       <use x=\"63.623047\" xlink:href=\"#DejaVuSans-48\"/>\r\n       <use x=\"127.246094\" xlink:href=\"#DejaVuSans-48\"/>\r\n       <use x=\"190.869141\" xlink:href=\"#DejaVuSans-48\"/>\r\n       <use x=\"254.492188\" xlink:href=\"#DejaVuSans-48\"/>\r\n      </g>\r\n     </g>\r\n    </g>\r\n    <g id=\"xtick_9\">\r\n     <g id=\"line2d_9\">\r\n      <defs>\r\n       <path d=\"M 0 0 \r\nL 0 2 \r\n\" id=\"m90a42f31e9\" style=\"stroke:#000000;stroke-width:0.6;\"/>\r\n      </defs>\r\n      <g>\r\n       <use style=\"stroke:#000000;stroke-width:0.6;\" x=\"120.298246\" xlink:href=\"#m90a42f31e9\" y=\"333.36\"/>\r\n      </g>\r\n     </g>\r\n    </g>\r\n    <g id=\"xtick_10\">\r\n     <g id=\"line2d_10\">\r\n      <g>\r\n       <use style=\"stroke:#000000;stroke-width:0.6;\" x=\"155.247891\" xlink:href=\"#m90a42f31e9\" y=\"333.36\"/>\r\n      </g>\r\n     </g>\r\n    </g>\r\n    <g id=\"xtick_11\">\r\n     <g id=\"line2d_11\">\r\n      <g>\r\n       <use style=\"stroke:#000000;stroke-width:0.6;\" x=\"204.506649\" xlink:href=\"#m90a42f31e9\" y=\"333.36\"/>\r\n      </g>\r\n     </g>\r\n    </g>\r\n    <g id=\"xtick_12\">\r\n     <g id=\"line2d_12\">\r\n      <g>\r\n       <use style=\"stroke:#000000;stroke-width:0.6;\" x=\"223.233959\" xlink:href=\"#m90a42f31e9\" y=\"333.36\"/>\r\n      </g>\r\n     </g>\r\n    </g>\r\n    <g id=\"xtick_13\">\r\n     <g id=\"line2d_13\">\r\n      <g>\r\n       <use style=\"stroke:#000000;stroke-width:0.6;\" x=\"239.456293\" xlink:href=\"#m90a42f31e9\" y=\"333.36\"/>\r\n      </g>\r\n     </g>\r\n    </g>\r\n    <g id=\"xtick_14\">\r\n     <g id=\"line2d_14\">\r\n      <g>\r\n       <use style=\"stroke:#000000;stroke-width:0.6;\" x=\"253.765406\" xlink:href=\"#m90a42f31e9\" y=\"333.36\"/>\r\n      </g>\r\n     </g>\r\n    </g>\r\n    <g id=\"xtick_15\">\r\n     <g id=\"line2d_15\">\r\n      <g>\r\n       <use style=\"stroke:#000000;stroke-width:0.6;\" x=\"400.032504\" xlink:href=\"#m90a42f31e9\" y=\"333.36\"/>\r\n      </g>\r\n     </g>\r\n    </g>\r\n    <g id=\"xtick_16\">\r\n     <g id=\"line2d_16\">\r\n      <g>\r\n       <use style=\"stroke:#000000;stroke-width:0.6;\" x=\"434.982149\" xlink:href=\"#m90a42f31e9\" y=\"333.36\"/>\r\n      </g>\r\n     </g>\r\n    </g>\r\n    <g id=\"xtick_17\">\r\n     <g id=\"line2d_17\">\r\n      <g>\r\n       <use style=\"stroke:#000000;stroke-width:0.6;\" x=\"484.240906\" xlink:href=\"#m90a42f31e9\" y=\"333.36\"/>\r\n      </g>\r\n     </g>\r\n    </g>\r\n    <g id=\"xtick_18\">\r\n     <g id=\"line2d_18\">\r\n      <g>\r\n       <use style=\"stroke:#000000;stroke-width:0.6;\" x=\"502.968217\" xlink:href=\"#m90a42f31e9\" y=\"333.36\"/>\r\n      </g>\r\n     </g>\r\n    </g>\r\n    <g id=\"xtick_19\">\r\n     <g id=\"line2d_19\">\r\n      <g>\r\n       <use style=\"stroke:#000000;stroke-width:0.6;\" x=\"519.190551\" xlink:href=\"#m90a42f31e9\" y=\"333.36\"/>\r\n      </g>\r\n     </g>\r\n    </g>\r\n    <g id=\"xtick_20\">\r\n     <g id=\"line2d_20\">\r\n      <g>\r\n       <use style=\"stroke:#000000;stroke-width:0.6;\" x=\"533.499664\" xlink:href=\"#m90a42f31e9\" y=\"333.36\"/>\r\n      </g>\r\n     </g>\r\n    </g>\r\n    <g id=\"text_9\">\r\n     <!-- Guess at number of beans in jar -->\r\n     <defs>\r\n      <path d=\"M 59.515625 10.40625 \r\nL 59.515625 29.984375 \r\nL 43.40625 29.984375 \r\nL 43.40625 38.09375 \r\nL 69.28125 38.09375 \r\nL 69.28125 6.78125 \r\nQ 63.578125 2.734375 56.6875 0.65625 \r\nQ 49.8125 -1.421875 42 -1.421875 \r\nQ 24.90625 -1.421875 15.25 8.5625 \r\nQ 5.609375 18.5625 5.609375 36.375 \r\nQ 5.609375 54.25 15.25 64.234375 \r\nQ 24.90625 74.21875 42 74.21875 \r\nQ 49.125 74.21875 55.546875 72.453125 \r\nQ 61.96875 70.703125 67.390625 67.28125 \r\nL 67.390625 56.78125 \r\nQ 61.921875 61.421875 55.765625 63.765625 \r\nQ 49.609375 66.109375 42.828125 66.109375 \r\nQ 29.4375 66.109375 22.71875 58.640625 \r\nQ 16.015625 51.171875 16.015625 36.375 \r\nQ 16.015625 21.625 22.71875 14.15625 \r\nQ 29.4375 6.6875 42.828125 6.6875 \r\nQ 48.046875 6.6875 52.140625 7.59375 \r\nQ 56.25 8.5 59.515625 10.40625 \r\nz\r\n\" id=\"DejaVuSans-71\"/>\r\n      <path d=\"M 8.5 21.578125 \r\nL 8.5 54.6875 \r\nL 17.484375 54.6875 \r\nL 17.484375 21.921875 \r\nQ 17.484375 14.15625 20.5 10.265625 \r\nQ 23.53125 6.390625 29.59375 6.390625 \r\nQ 36.859375 6.390625 41.078125 11.03125 \r\nQ 45.3125 15.671875 45.3125 23.6875 \r\nL 45.3125 54.6875 \r\nL 54.296875 54.6875 \r\nL 54.296875 0 \r\nL 45.3125 0 \r\nL 45.3125 8.40625 \r\nQ 42.046875 3.421875 37.71875 1 \r\nQ 33.40625 -1.421875 27.6875 -1.421875 \r\nQ 18.265625 -1.421875 13.375 4.4375 \r\nQ 8.5 10.296875 8.5 21.578125 \r\nz\r\nM 31.109375 56 \r\nz\r\n\" id=\"DejaVuSans-117\"/>\r\n      <path d=\"M 56.203125 29.59375 \r\nL 56.203125 25.203125 \r\nL 14.890625 25.203125 \r\nQ 15.484375 15.921875 20.484375 11.0625 \r\nQ 25.484375 6.203125 34.421875 6.203125 \r\nQ 39.59375 6.203125 44.453125 7.46875 \r\nQ 49.3125 8.734375 54.109375 11.28125 \r\nL 54.109375 2.78125 \r\nQ 49.265625 0.734375 44.1875 -0.34375 \r\nQ 39.109375 -1.421875 33.890625 -1.421875 \r\nQ 20.796875 -1.421875 13.15625 6.1875 \r\nQ 5.515625 13.8125 5.515625 26.8125 \r\nQ 5.515625 40.234375 12.765625 48.109375 \r\nQ 20.015625 56 32.328125 56 \r\nQ 43.359375 56 49.78125 48.890625 \r\nQ 56.203125 41.796875 56.203125 29.59375 \r\nz\r\nM 47.21875 32.234375 \r\nQ 47.125 39.59375 43.09375 43.984375 \r\nQ 39.0625 48.390625 32.421875 48.390625 \r\nQ 24.90625 48.390625 20.390625 44.140625 \r\nQ 15.875 39.890625 15.1875 32.171875 \r\nz\r\n\" id=\"DejaVuSans-101\"/>\r\n      <path d=\"M 44.28125 53.078125 \r\nL 44.28125 44.578125 \r\nQ 40.484375 46.53125 36.375 47.5 \r\nQ 32.28125 48.484375 27.875 48.484375 \r\nQ 21.1875 48.484375 17.84375 46.4375 \r\nQ 14.5 44.390625 14.5 40.28125 \r\nQ 14.5 37.15625 16.890625 35.375 \r\nQ 19.28125 33.59375 26.515625 31.984375 \r\nL 29.59375 31.296875 \r\nQ 39.15625 29.25 43.1875 25.515625 \r\nQ 47.21875 21.78125 47.21875 15.09375 \r\nQ 47.21875 7.46875 41.1875 3.015625 \r\nQ 35.15625 -1.421875 24.609375 -1.421875 \r\nQ 20.21875 -1.421875 15.453125 -0.5625 \r\nQ 10.6875 0.296875 5.421875 2 \r\nL 5.421875 11.28125 \r\nQ 10.40625 8.6875 15.234375 7.390625 \r\nQ 20.0625 6.109375 24.8125 6.109375 \r\nQ 31.15625 6.109375 34.5625 8.28125 \r\nQ 37.984375 10.453125 37.984375 14.40625 \r\nQ 37.984375 18.0625 35.515625 20.015625 \r\nQ 33.0625 21.96875 24.703125 23.78125 \r\nL 21.578125 24.515625 \r\nQ 13.234375 26.265625 9.515625 29.90625 \r\nQ 5.8125 33.546875 5.8125 39.890625 \r\nQ 5.8125 47.609375 11.28125 51.796875 \r\nQ 16.75 56 26.8125 56 \r\nQ 31.78125 56 36.171875 55.265625 \r\nQ 40.578125 54.546875 44.28125 53.078125 \r\nz\r\n\" id=\"DejaVuSans-115\"/>\r\n      <path id=\"DejaVuSans-32\"/>\r\n      <path d=\"M 34.28125 27.484375 \r\nQ 23.390625 27.484375 19.1875 25 \r\nQ 14.984375 22.515625 14.984375 16.5 \r\nQ 14.984375 11.71875 18.140625 8.90625 \r\nQ 21.296875 6.109375 26.703125 6.109375 \r\nQ 34.1875 6.109375 38.703125 11.40625 \r\nQ 43.21875 16.703125 43.21875 25.484375 \r\nL 43.21875 27.484375 \r\nz\r\nM 52.203125 31.203125 \r\nL 52.203125 0 \r\nL 43.21875 0 \r\nL 43.21875 8.296875 \r\nQ 40.140625 3.328125 35.546875 0.953125 \r\nQ 30.953125 -1.421875 24.3125 -1.421875 \r\nQ 15.921875 -1.421875 10.953125 3.296875 \r\nQ 6 8.015625 6 15.921875 \r\nQ 6 25.140625 12.171875 29.828125 \r\nQ 18.359375 34.515625 30.609375 34.515625 \r\nL 43.21875 34.515625 \r\nL 43.21875 35.40625 \r\nQ 43.21875 41.609375 39.140625 45 \r\nQ 35.0625 48.390625 27.6875 48.390625 \r\nQ 23 48.390625 18.546875 47.265625 \r\nQ 14.109375 46.140625 10.015625 43.890625 \r\nL 10.015625 52.203125 \r\nQ 14.9375 54.109375 19.578125 55.046875 \r\nQ 24.21875 56 28.609375 56 \r\nQ 40.484375 56 46.34375 49.84375 \r\nQ 52.203125 43.703125 52.203125 31.203125 \r\nz\r\n\" id=\"DejaVuSans-97\"/>\r\n      <path d=\"M 18.3125 70.21875 \r\nL 18.3125 54.6875 \r\nL 36.8125 54.6875 \r\nL 36.8125 47.703125 \r\nL 18.3125 47.703125 \r\nL 18.3125 18.015625 \r\nQ 18.3125 11.328125 20.140625 9.421875 \r\nQ 21.96875 7.515625 27.59375 7.515625 \r\nL 36.8125 7.515625 \r\nL 36.8125 0 \r\nL 27.59375 0 \r\nQ 17.1875 0 13.234375 3.875 \r\nQ 9.28125 7.765625 9.28125 18.015625 \r\nL 9.28125 47.703125 \r\nL 2.6875 47.703125 \r\nL 2.6875 54.6875 \r\nL 9.28125 54.6875 \r\nL 9.28125 70.21875 \r\nz\r\n\" id=\"DejaVuSans-116\"/>\r\n      <path d=\"M 54.890625 33.015625 \r\nL 54.890625 0 \r\nL 45.90625 0 \r\nL 45.90625 32.71875 \r\nQ 45.90625 40.484375 42.875 44.328125 \r\nQ 39.84375 48.1875 33.796875 48.1875 \r\nQ 26.515625 48.1875 22.3125 43.546875 \r\nQ 18.109375 38.921875 18.109375 30.90625 \r\nL 18.109375 0 \r\nL 9.078125 0 \r\nL 9.078125 54.6875 \r\nL 18.109375 54.6875 \r\nL 18.109375 46.1875 \r\nQ 21.34375 51.125 25.703125 53.5625 \r\nQ 30.078125 56 35.796875 56 \r\nQ 45.21875 56 50.046875 50.171875 \r\nQ 54.890625 44.34375 54.890625 33.015625 \r\nz\r\n\" id=\"DejaVuSans-110\"/>\r\n      <path d=\"M 52 44.1875 \r\nQ 55.375 50.25 60.0625 53.125 \r\nQ 64.75 56 71.09375 56 \r\nQ 79.640625 56 84.28125 50.015625 \r\nQ 88.921875 44.046875 88.921875 33.015625 \r\nL 88.921875 0 \r\nL 79.890625 0 \r\nL 79.890625 32.71875 \r\nQ 79.890625 40.578125 77.09375 44.375 \r\nQ 74.3125 48.1875 68.609375 48.1875 \r\nQ 61.625 48.1875 57.5625 43.546875 \r\nQ 53.515625 38.921875 53.515625 30.90625 \r\nL 53.515625 0 \r\nL 44.484375 0 \r\nL 44.484375 32.71875 \r\nQ 44.484375 40.625 41.703125 44.40625 \r\nQ 38.921875 48.1875 33.109375 48.1875 \r\nQ 26.21875 48.1875 22.15625 43.53125 \r\nQ 18.109375 38.875 18.109375 30.90625 \r\nL 18.109375 0 \r\nL 9.078125 0 \r\nL 9.078125 54.6875 \r\nL 18.109375 54.6875 \r\nL 18.109375 46.1875 \r\nQ 21.1875 51.21875 25.484375 53.609375 \r\nQ 29.78125 56 35.6875 56 \r\nQ 41.65625 56 45.828125 52.96875 \r\nQ 50 49.953125 52 44.1875 \r\nz\r\n\" id=\"DejaVuSans-109\"/>\r\n      <path d=\"M 48.6875 27.296875 \r\nQ 48.6875 37.203125 44.609375 42.84375 \r\nQ 40.53125 48.484375 33.40625 48.484375 \r\nQ 26.265625 48.484375 22.1875 42.84375 \r\nQ 18.109375 37.203125 18.109375 27.296875 \r\nQ 18.109375 17.390625 22.1875 11.75 \r\nQ 26.265625 6.109375 33.40625 6.109375 \r\nQ 40.53125 6.109375 44.609375 11.75 \r\nQ 48.6875 17.390625 48.6875 27.296875 \r\nz\r\nM 18.109375 46.390625 \r\nQ 20.953125 51.265625 25.265625 53.625 \r\nQ 29.59375 56 35.59375 56 \r\nQ 45.5625 56 51.78125 48.09375 \r\nQ 58.015625 40.1875 58.015625 27.296875 \r\nQ 58.015625 14.40625 51.78125 6.484375 \r\nQ 45.5625 -1.421875 35.59375 -1.421875 \r\nQ 29.59375 -1.421875 25.265625 0.953125 \r\nQ 20.953125 3.328125 18.109375 8.203125 \r\nL 18.109375 0 \r\nL 9.078125 0 \r\nL 9.078125 75.984375 \r\nL 18.109375 75.984375 \r\nz\r\n\" id=\"DejaVuSans-98\"/>\r\n      <path d=\"M 41.109375 46.296875 \r\nQ 39.59375 47.171875 37.8125 47.578125 \r\nQ 36.03125 48 33.890625 48 \r\nQ 26.265625 48 22.1875 43.046875 \r\nQ 18.109375 38.09375 18.109375 28.8125 \r\nL 18.109375 0 \r\nL 9.078125 0 \r\nL 9.078125 54.6875 \r\nL 18.109375 54.6875 \r\nL 18.109375 46.1875 \r\nQ 20.953125 51.171875 25.484375 53.578125 \r\nQ 30.03125 56 36.53125 56 \r\nQ 37.453125 56 38.578125 55.875 \r\nQ 39.703125 55.765625 41.0625 55.515625 \r\nz\r\n\" id=\"DejaVuSans-114\"/>\r\n      <path d=\"M 30.609375 48.390625 \r\nQ 23.390625 48.390625 19.1875 42.75 \r\nQ 14.984375 37.109375 14.984375 27.296875 \r\nQ 14.984375 17.484375 19.15625 11.84375 \r\nQ 23.34375 6.203125 30.609375 6.203125 \r\nQ 37.796875 6.203125 41.984375 11.859375 \r\nQ 46.1875 17.53125 46.1875 27.296875 \r\nQ 46.1875 37.015625 41.984375 42.703125 \r\nQ 37.796875 48.390625 30.609375 48.390625 \r\nz\r\nM 30.609375 56 \r\nQ 42.328125 56 49.015625 48.375 \r\nQ 55.71875 40.765625 55.71875 27.296875 \r\nQ 55.71875 13.875 49.015625 6.21875 \r\nQ 42.328125 -1.421875 30.609375 -1.421875 \r\nQ 18.84375 -1.421875 12.171875 6.21875 \r\nQ 5.515625 13.875 5.515625 27.296875 \r\nQ 5.515625 40.765625 12.171875 48.375 \r\nQ 18.84375 56 30.609375 56 \r\nz\r\n\" id=\"DejaVuSans-111\"/>\r\n      <path d=\"M 37.109375 75.984375 \r\nL 37.109375 68.5 \r\nL 28.515625 68.5 \r\nQ 23.6875 68.5 21.796875 66.546875 \r\nQ 19.921875 64.59375 19.921875 59.515625 \r\nL 19.921875 54.6875 \r\nL 34.71875 54.6875 \r\nL 34.71875 47.703125 \r\nL 19.921875 47.703125 \r\nL 19.921875 0 \r\nL 10.890625 0 \r\nL 10.890625 47.703125 \r\nL 2.296875 47.703125 \r\nL 2.296875 54.6875 \r\nL 10.890625 54.6875 \r\nL 10.890625 58.5 \r\nQ 10.890625 67.625 15.140625 71.796875 \r\nQ 19.390625 75.984375 28.609375 75.984375 \r\nz\r\n\" id=\"DejaVuSans-102\"/>\r\n      <path d=\"M 9.421875 54.6875 \r\nL 18.40625 54.6875 \r\nL 18.40625 0 \r\nL 9.421875 0 \r\nz\r\nM 9.421875 75.984375 \r\nL 18.40625 75.984375 \r\nL 18.40625 64.59375 \r\nL 9.421875 64.59375 \r\nz\r\n\" id=\"DejaVuSans-105\"/>\r\n      <path d=\"M 9.421875 54.6875 \r\nL 18.40625 54.6875 \r\nL 18.40625 -0.984375 \r\nQ 18.40625 -11.421875 14.421875 -16.109375 \r\nQ 10.453125 -20.796875 1.609375 -20.796875 \r\nL -1.8125 -20.796875 \r\nL -1.8125 -13.1875 \r\nL 0.59375 -13.1875 \r\nQ 5.71875 -13.1875 7.5625 -10.8125 \r\nQ 9.421875 -8.453125 9.421875 -0.984375 \r\nz\r\nM 9.421875 75.984375 \r\nL 18.40625 75.984375 \r\nL 18.40625 64.59375 \r\nL 9.421875 64.59375 \r\nz\r\n\" id=\"DejaVuSans-106\"/>\r\n     </defs>\r\n     <g transform=\"translate(295.027344 361.636562)scale(0.1 -0.1)\">\r\n      <use xlink:href=\"#DejaVuSans-71\"/>\r\n      <use x=\"77.490234\" xlink:href=\"#DejaVuSans-117\"/>\r\n      <use x=\"140.869141\" xlink:href=\"#DejaVuSans-101\"/>\r\n      <use x=\"202.392578\" xlink:href=\"#DejaVuSans-115\"/>\r\n      <use x=\"254.492188\" xlink:href=\"#DejaVuSans-115\"/>\r\n      <use x=\"306.591797\" xlink:href=\"#DejaVuSans-32\"/>\r\n      <use x=\"338.378906\" xlink:href=\"#DejaVuSans-97\"/>\r\n      <use x=\"399.658203\" xlink:href=\"#DejaVuSans-116\"/>\r\n      <use x=\"438.867188\" xlink:href=\"#DejaVuSans-32\"/>\r\n      <use x=\"470.654297\" xlink:href=\"#DejaVuSans-110\"/>\r\n      <use x=\"534.033203\" xlink:href=\"#DejaVuSans-117\"/>\r\n      <use x=\"597.412109\" xlink:href=\"#DejaVuSans-109\"/>\r\n      <use x=\"694.824219\" xlink:href=\"#DejaVuSans-98\"/>\r\n      <use x=\"758.300781\" xlink:href=\"#DejaVuSans-101\"/>\r\n      <use x=\"819.824219\" xlink:href=\"#DejaVuSans-114\"/>\r\n      <use x=\"860.9375\" xlink:href=\"#DejaVuSans-32\"/>\r\n      <use x=\"892.724609\" xlink:href=\"#DejaVuSans-111\"/>\r\n      <use x=\"953.90625\" xlink:href=\"#DejaVuSans-102\"/>\r\n      <use x=\"989.111328\" xlink:href=\"#DejaVuSans-32\"/>\r\n      <use x=\"1020.898438\" xlink:href=\"#DejaVuSans-98\"/>\r\n      <use x=\"1084.375\" xlink:href=\"#DejaVuSans-101\"/>\r\n      <use x=\"1145.898438\" xlink:href=\"#DejaVuSans-97\"/>\r\n      <use x=\"1207.177734\" xlink:href=\"#DejaVuSans-110\"/>\r\n      <use x=\"1270.556641\" xlink:href=\"#DejaVuSans-115\"/>\r\n      <use x=\"1322.65625\" xlink:href=\"#DejaVuSans-32\"/>\r\n      <use x=\"1354.443359\" xlink:href=\"#DejaVuSans-105\"/>\r\n      <use x=\"1382.226562\" xlink:href=\"#DejaVuSans-110\"/>\r\n      <use x=\"1445.605469\" xlink:href=\"#DejaVuSans-32\"/>\r\n      <use x=\"1477.392578\" xlink:href=\"#DejaVuSans-106\"/>\r\n      <use x=\"1505.175781\" xlink:href=\"#DejaVuSans-97\"/>\r\n      <use x=\"1566.455078\" xlink:href=\"#DejaVuSans-114\"/>\r\n     </g>\r\n    </g>\r\n   </g>\r\n   <g id=\"matplotlib.axis_2\">\r\n    <g id=\"ytick_1\">\r\n     <g id=\"line2d_21\">\r\n      <defs>\r\n       <path d=\"M 0 0 \r\nL -3.5 0 \r\n\" id=\"m3de321f2c9\" style=\"stroke:#000000;stroke-width:0.8;\"/>\r\n      </defs>\r\n      <g>\r\n       <use style=\"stroke:#000000;stroke-width:0.8;\" x=\"40.603125\" xlink:href=\"#m3de321f2c9\" y=\"333.36\"/>\r\n      </g>\r\n     </g>\r\n     <g id=\"text_10\">\r\n      <!-- 0 -->\r\n      <g transform=\"translate(27.240625 337.159219)scale(0.1 -0.1)\">\r\n       <use xlink:href=\"#DejaVuSans-48\"/>\r\n      </g>\r\n     </g>\r\n    </g>\r\n    <g id=\"ytick_2\">\r\n     <g id=\"line2d_22\">\r\n      <g>\r\n       <use style=\"stroke:#000000;stroke-width:0.8;\" x=\"40.603125\" xlink:href=\"#m3de321f2c9\" y=\"288.341366\"/>\r\n      </g>\r\n     </g>\r\n     <g id=\"text_11\">\r\n      <!-- 10 -->\r\n      <g transform=\"translate(20.878125 292.140585)scale(0.1 -0.1)\">\r\n       <use xlink:href=\"#DejaVuSans-49\"/>\r\n       <use x=\"63.623047\" xlink:href=\"#DejaVuSans-48\"/>\r\n      </g>\r\n     </g>\r\n    </g>\r\n    <g id=\"ytick_3\">\r\n     <g id=\"line2d_23\">\r\n      <g>\r\n       <use style=\"stroke:#000000;stroke-width:0.8;\" x=\"40.603125\" xlink:href=\"#m3de321f2c9\" y=\"243.322733\"/>\r\n      </g>\r\n     </g>\r\n     <g id=\"text_12\">\r\n      <!-- 20 -->\r\n      <g transform=\"translate(20.878125 247.121952)scale(0.1 -0.1)\">\r\n       <use xlink:href=\"#DejaVuSans-50\"/>\r\n       <use x=\"63.623047\" xlink:href=\"#DejaVuSans-48\"/>\r\n      </g>\r\n     </g>\r\n    </g>\r\n    <g id=\"ytick_4\">\r\n     <g id=\"line2d_24\">\r\n      <g>\r\n       <use style=\"stroke:#000000;stroke-width:0.8;\" x=\"40.603125\" xlink:href=\"#m3de321f2c9\" y=\"198.304099\"/>\r\n      </g>\r\n     </g>\r\n     <g id=\"text_13\">\r\n      <!-- 30 -->\r\n      <g transform=\"translate(20.878125 202.103318)scale(0.1 -0.1)\">\r\n       <use xlink:href=\"#DejaVuSans-51\"/>\r\n       <use x=\"63.623047\" xlink:href=\"#DejaVuSans-48\"/>\r\n      </g>\r\n     </g>\r\n    </g>\r\n    <g id=\"ytick_5\">\r\n     <g id=\"line2d_25\">\r\n      <g>\r\n       <use style=\"stroke:#000000;stroke-width:0.8;\" x=\"40.603125\" xlink:href=\"#m3de321f2c9\" y=\"153.285466\"/>\r\n      </g>\r\n     </g>\r\n     <g id=\"text_14\">\r\n      <!-- 40 -->\r\n      <defs>\r\n       <path d=\"M 37.796875 64.3125 \r\nL 12.890625 25.390625 \r\nL 37.796875 25.390625 \r\nz\r\nM 35.203125 72.90625 \r\nL 47.609375 72.90625 \r\nL 47.609375 25.390625 \r\nL 58.015625 25.390625 \r\nL 58.015625 17.1875 \r\nL 47.609375 17.1875 \r\nL 47.609375 0 \r\nL 37.796875 0 \r\nL 37.796875 17.1875 \r\nL 4.890625 17.1875 \r\nL 4.890625 26.703125 \r\nz\r\n\" id=\"DejaVuSans-52\"/>\r\n      </defs>\r\n      <g transform=\"translate(20.878125 157.084685)scale(0.1 -0.1)\">\r\n       <use xlink:href=\"#DejaVuSans-52\"/>\r\n       <use x=\"63.623047\" xlink:href=\"#DejaVuSans-48\"/>\r\n      </g>\r\n     </g>\r\n    </g>\r\n    <g id=\"ytick_6\">\r\n     <g id=\"line2d_26\">\r\n      <g>\r\n       <use style=\"stroke:#000000;stroke-width:0.8;\" x=\"40.603125\" xlink:href=\"#m3de321f2c9\" y=\"108.266832\"/>\r\n      </g>\r\n     </g>\r\n     <g id=\"text_15\">\r\n      <!-- 50 -->\r\n      <g transform=\"translate(20.878125 112.066051)scale(0.1 -0.1)\">\r\n       <use xlink:href=\"#DejaVuSans-53\"/>\r\n       <use x=\"63.623047\" xlink:href=\"#DejaVuSans-48\"/>\r\n      </g>\r\n     </g>\r\n    </g>\r\n    <g id=\"ytick_7\">\r\n     <g id=\"line2d_27\">\r\n      <g>\r\n       <use style=\"stroke:#000000;stroke-width:0.8;\" x=\"40.603125\" xlink:href=\"#m3de321f2c9\" y=\"63.248199\"/>\r\n      </g>\r\n     </g>\r\n     <g id=\"text_16\">\r\n      <!-- 60 -->\r\n      <defs>\r\n       <path d=\"M 33.015625 40.375 \r\nQ 26.375 40.375 22.484375 35.828125 \r\nQ 18.609375 31.296875 18.609375 23.390625 \r\nQ 18.609375 15.53125 22.484375 10.953125 \r\nQ 26.375 6.390625 33.015625 6.390625 \r\nQ 39.65625 6.390625 43.53125 10.953125 \r\nQ 47.40625 15.53125 47.40625 23.390625 \r\nQ 47.40625 31.296875 43.53125 35.828125 \r\nQ 39.65625 40.375 33.015625 40.375 \r\nz\r\nM 52.59375 71.296875 \r\nL 52.59375 62.3125 \r\nQ 48.875 64.0625 45.09375 64.984375 \r\nQ 41.3125 65.921875 37.59375 65.921875 \r\nQ 27.828125 65.921875 22.671875 59.328125 \r\nQ 17.53125 52.734375 16.796875 39.40625 \r\nQ 19.671875 43.65625 24.015625 45.921875 \r\nQ 28.375 48.1875 33.59375 48.1875 \r\nQ 44.578125 48.1875 50.953125 41.515625 \r\nQ 57.328125 34.859375 57.328125 23.390625 \r\nQ 57.328125 12.15625 50.6875 5.359375 \r\nQ 44.046875 -1.421875 33.015625 -1.421875 \r\nQ 20.359375 -1.421875 13.671875 8.265625 \r\nQ 6.984375 17.96875 6.984375 36.375 \r\nQ 6.984375 53.65625 15.1875 63.9375 \r\nQ 23.390625 74.21875 37.203125 74.21875 \r\nQ 40.921875 74.21875 44.703125 73.484375 \r\nQ 48.484375 72.75 52.59375 71.296875 \r\nz\r\n\" id=\"DejaVuSans-54\"/>\r\n      </defs>\r\n      <g transform=\"translate(20.878125 67.047418)scale(0.1 -0.1)\">\r\n       <use xlink:href=\"#DejaVuSans-54\"/>\r\n       <use x=\"63.623047\" xlink:href=\"#DejaVuSans-48\"/>\r\n      </g>\r\n     </g>\r\n    </g>\r\n    <g id=\"ytick_8\">\r\n     <g id=\"line2d_28\">\r\n      <g>\r\n       <use style=\"stroke:#000000;stroke-width:0.8;\" x=\"40.603125\" xlink:href=\"#m3de321f2c9\" y=\"18.229565\"/>\r\n      </g>\r\n     </g>\r\n     <g id=\"text_17\">\r\n      <!-- 70 -->\r\n      <defs>\r\n       <path d=\"M 8.203125 72.90625 \r\nL 55.078125 72.90625 \r\nL 55.078125 68.703125 \r\nL 28.609375 0 \r\nL 18.3125 0 \r\nL 43.21875 64.59375 \r\nL 8.203125 64.59375 \r\nz\r\n\" id=\"DejaVuSans-55\"/>\r\n      </defs>\r\n      <g transform=\"translate(20.878125 22.028784)scale(0.1 -0.1)\">\r\n       <use xlink:href=\"#DejaVuSans-55\"/>\r\n       <use x=\"63.623047\" xlink:href=\"#DejaVuSans-48\"/>\r\n      </g>\r\n     </g>\r\n    </g>\r\n    <g id=\"text_18\">\r\n     <!-- Frequencies -->\r\n     <defs>\r\n      <path d=\"M 9.8125 72.90625 \r\nL 51.703125 72.90625 \r\nL 51.703125 64.59375 \r\nL 19.671875 64.59375 \r\nL 19.671875 43.109375 \r\nL 48.578125 43.109375 \r\nL 48.578125 34.8125 \r\nL 19.671875 34.8125 \r\nL 19.671875 0 \r\nL 9.8125 0 \r\nz\r\n\" id=\"DejaVuSans-70\"/>\r\n      <path d=\"M 14.796875 27.296875 \r\nQ 14.796875 17.390625 18.875 11.75 \r\nQ 22.953125 6.109375 30.078125 6.109375 \r\nQ 37.203125 6.109375 41.296875 11.75 \r\nQ 45.40625 17.390625 45.40625 27.296875 \r\nQ 45.40625 37.203125 41.296875 42.84375 \r\nQ 37.203125 48.484375 30.078125 48.484375 \r\nQ 22.953125 48.484375 18.875 42.84375 \r\nQ 14.796875 37.203125 14.796875 27.296875 \r\nz\r\nM 45.40625 8.203125 \r\nQ 42.578125 3.328125 38.25 0.953125 \r\nQ 33.9375 -1.421875 27.875 -1.421875 \r\nQ 17.96875 -1.421875 11.734375 6.484375 \r\nQ 5.515625 14.40625 5.515625 27.296875 \r\nQ 5.515625 40.1875 11.734375 48.09375 \r\nQ 17.96875 56 27.875 56 \r\nQ 33.9375 56 38.25 53.625 \r\nQ 42.578125 51.265625 45.40625 46.390625 \r\nL 45.40625 54.6875 \r\nL 54.390625 54.6875 \r\nL 54.390625 -20.796875 \r\nL 45.40625 -20.796875 \r\nz\r\n\" id=\"DejaVuSans-113\"/>\r\n      <path d=\"M 48.78125 52.59375 \r\nL 48.78125 44.1875 \r\nQ 44.96875 46.296875 41.140625 47.34375 \r\nQ 37.3125 48.390625 33.40625 48.390625 \r\nQ 24.65625 48.390625 19.8125 42.84375 \r\nQ 14.984375 37.3125 14.984375 27.296875 \r\nQ 14.984375 17.28125 19.8125 11.734375 \r\nQ 24.65625 6.203125 33.40625 6.203125 \r\nQ 37.3125 6.203125 41.140625 7.25 \r\nQ 44.96875 8.296875 48.78125 10.40625 \r\nL 48.78125 2.09375 \r\nQ 45.015625 0.34375 40.984375 -0.53125 \r\nQ 36.96875 -1.421875 32.421875 -1.421875 \r\nQ 20.0625 -1.421875 12.78125 6.34375 \r\nQ 5.515625 14.109375 5.515625 27.296875 \r\nQ 5.515625 40.671875 12.859375 48.328125 \r\nQ 20.21875 56 33.015625 56 \r\nQ 37.15625 56 41.109375 55.140625 \r\nQ 45.0625 54.296875 48.78125 52.59375 \r\nz\r\n\" id=\"DejaVuSans-99\"/>\r\n     </defs>\r\n     <g transform=\"translate(14.798438 200.220625)rotate(-90)scale(0.1 -0.1)\">\r\n      <use xlink:href=\"#DejaVuSans-70\"/>\r\n      <use x=\"50.269531\" xlink:href=\"#DejaVuSans-114\"/>\r\n      <use x=\"89.132812\" xlink:href=\"#DejaVuSans-101\"/>\r\n      <use x=\"150.65625\" xlink:href=\"#DejaVuSans-113\"/>\r\n      <use x=\"214.132812\" xlink:href=\"#DejaVuSans-117\"/>\r\n      <use x=\"277.511719\" xlink:href=\"#DejaVuSans-101\"/>\r\n      <use x=\"339.035156\" xlink:href=\"#DejaVuSans-110\"/>\r\n      <use x=\"402.414062\" xlink:href=\"#DejaVuSans-99\"/>\r\n      <use x=\"457.394531\" xlink:href=\"#DejaVuSans-105\"/>\r\n      <use x=\"485.177734\" xlink:href=\"#DejaVuSans-101\"/>\r\n      <use x=\"546.701172\" xlink:href=\"#DejaVuSans-115\"/>\r\n     </g>\r\n    </g>\r\n   </g>\r\n   <g id=\"patch_52\">\r\n    <path d=\"M 40.603125 333.36 \r\nL 40.603125 7.2 \r\n\" style=\"fill:none;stroke:#000000;stroke-linecap:square;stroke-linejoin:miter;stroke-width:0.8;\"/>\r\n   </g>\r\n   <g id=\"patch_53\">\r\n    <path d=\"M 710.203125 333.36 \r\nL 710.203125 7.2 \r\n\" style=\"fill:none;stroke:#000000;stroke-linecap:square;stroke-linejoin:miter;stroke-width:0.8;\"/>\r\n   </g>\r\n   <g id=\"patch_54\">\r\n    <path d=\"M 40.603125 333.36 \r\nL 710.203125 333.36 \r\n\" style=\"fill:none;stroke:#000000;stroke-linecap:square;stroke-linejoin:miter;stroke-width:0.8;\"/>\r\n   </g>\r\n   <g id=\"patch_55\">\r\n    <path d=\"M 40.603125 7.2 \r\nL 710.203125 7.2 \r\n\" style=\"fill:none;stroke:#000000;stroke-linecap:square;stroke-linejoin:miter;stroke-width:0.8;\"/>\r\n   </g>\r\n  </g>\r\n </g>\r\n <defs>\r\n  <clipPath id=\"pc0fff75a8e\">\r\n   <rect height=\"326.16\" width=\"669.6\" x=\"40.603125\" y=\"7.2\"/>\r\n  </clipPath>\r\n </defs>\r\n</svg>\r\n",
      "image/png": "[encoded data removed]"
     },
     "metadata": {
      "needs_background": "light"
     }
    }
   ],
   "source": [
    "import matplotlib.pyplot as plt\n",
    "\n",
    "plt.figure(figsize=(12,6))\n",
    "\n",
    "plt.hist(df[\"count\"], bins=np.logspace(np.log10(200), np.log10(30000), 50), color=\"grey\", edgecolor=\"white\")\n",
    "\n",
    "plt.xscale(\"log\")\n",
    "\n",
    "plt.xlabel(\"Guess at number of beans in jar\")\n",
    "plt.ylabel(\"Frequencies\")\n",
    "plt.xticks([200, 500, 1000, 2000, 5000, 10000, 20000, 30000], [200, 500, 1000, 2000, 5000, 10000, 20000, 30000])\n",
    "\n",
    "None"
   ]
  },
  {
   "cell_type": "code",
   "execution_count": null,
   "metadata": {},
   "outputs": [],
   "source": []
  }
 ]
}